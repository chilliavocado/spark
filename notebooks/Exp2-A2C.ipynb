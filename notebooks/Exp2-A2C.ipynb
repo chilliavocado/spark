{
 "cells": [
  {
   "cell_type": "markdown",
   "metadata": {},
   "source": [
    "# Experiment 2) A2C"
   ]
  },
  {
   "cell_type": "markdown",
   "metadata": {},
   "source": [
    "## 1) Setup"
   ]
  },
  {
   "cell_type": "markdown",
   "metadata": {},
   "source": [
    "### 1.1) Install necessary dependencies"
   ]
  },
  {
   "cell_type": "code",
   "execution_count": 2,
   "metadata": {
    "scrolled": true,
    "tags": []
   },
   "outputs": [
    {
     "name": "stdout",
     "output_type": "stream",
     "text": [
      "Requirement already satisfied: Jinja2 in /opt/conda/lib/python3.10/site-packages (from -r requirements.txt (line 2)) (3.1.3)\n",
      "Requirement already satisfied: numpy in /opt/conda/lib/python3.10/site-packages (from -r requirements.txt (line 3)) (1.26.4)\n",
      "Requirement already satisfied: torch in /opt/conda/lib/python3.10/site-packages (from -r requirements.txt (line 4)) (2.5.1)\n",
      "Requirement already satisfied: gym in /opt/conda/lib/python3.10/site-packages (from -r requirements.txt (line 5)) (0.26.2)\n",
      "Requirement already satisfied: stable-baselines3>=2.0.0a4 in /opt/conda/lib/python3.10/site-packages (from stable-baselines3[extra]>=2.0.0a4->-r requirements.txt (line 6)) (2.4.0a11)\n",
      "Requirement already satisfied: scikit-learn in /opt/conda/lib/python3.10/site-packages (from -r requirements.txt (line 7)) (1.4.2)\n",
      "Requirement already satisfied: fastapi[dev,docs,standard] in /opt/conda/lib/python3.10/site-packages (from -r requirements.txt (line 1)) (0.110.1)\n",
      "\u001b[33mWARNING: fastapi 0.110.1 does not provide the extra 'dev'\u001b[0m\u001b[33m\n",
      "\u001b[0m\u001b[33mWARNING: fastapi 0.110.1 does not provide the extra 'docs'\u001b[0m\u001b[33m\n",
      "\u001b[0m\u001b[33mWARNING: fastapi 0.110.1 does not provide the extra 'standard'\u001b[0m\u001b[33m\n",
      "\u001b[0mRequirement already satisfied: pydantic!=1.8,!=1.8.1,!=2.0.0,!=2.0.1,!=2.1.0,<3.0.0,>=1.7.4 in /opt/conda/lib/python3.10/site-packages (from fastapi[dev,docs,standard]->-r requirements.txt (line 1)) (2.7.0)\n",
      "Requirement already satisfied: starlette<0.38.0,>=0.37.2 in /opt/conda/lib/python3.10/site-packages (from fastapi[dev,docs,standard]->-r requirements.txt (line 1)) (0.37.2)\n",
      "Requirement already satisfied: typing-extensions>=4.8.0 in /opt/conda/lib/python3.10/site-packages (from fastapi[dev,docs,standard]->-r requirements.txt (line 1)) (4.11.0)\n",
      "Requirement already satisfied: MarkupSafe>=2.0 in /opt/conda/lib/python3.10/site-packages (from Jinja2->-r requirements.txt (line 2)) (2.1.5)\n",
      "Requirement already satisfied: filelock in /opt/conda/lib/python3.10/site-packages (from torch->-r requirements.txt (line 4)) (3.13.4)\n",
      "Requirement already satisfied: networkx in /opt/conda/lib/python3.10/site-packages (from torch->-r requirements.txt (line 4)) (3.4.2)\n",
      "Requirement already satisfied: fsspec in /opt/conda/lib/python3.10/site-packages (from torch->-r requirements.txt (line 4)) (2024.3.1)\n",
      "Requirement already satisfied: nvidia-cuda-nvrtc-cu12==12.4.127 in /opt/conda/lib/python3.10/site-packages (from torch->-r requirements.txt (line 4)) (12.4.127)\n",
      "Requirement already satisfied: nvidia-cuda-runtime-cu12==12.4.127 in /opt/conda/lib/python3.10/site-packages (from torch->-r requirements.txt (line 4)) (12.4.127)\n",
      "Requirement already satisfied: nvidia-cuda-cupti-cu12==12.4.127 in /opt/conda/lib/python3.10/site-packages (from torch->-r requirements.txt (line 4)) (12.4.127)\n",
      "Requirement already satisfied: nvidia-cudnn-cu12==9.1.0.70 in /opt/conda/lib/python3.10/site-packages (from torch->-r requirements.txt (line 4)) (9.1.0.70)\n",
      "Requirement already satisfied: nvidia-cublas-cu12==12.4.5.8 in /opt/conda/lib/python3.10/site-packages (from torch->-r requirements.txt (line 4)) (12.4.5.8)\n",
      "Requirement already satisfied: nvidia-cufft-cu12==11.2.1.3 in /opt/conda/lib/python3.10/site-packages (from torch->-r requirements.txt (line 4)) (11.2.1.3)\n",
      "Requirement already satisfied: nvidia-curand-cu12==10.3.5.147 in /opt/conda/lib/python3.10/site-packages (from torch->-r requirements.txt (line 4)) (10.3.5.147)\n",
      "Requirement already satisfied: nvidia-cusolver-cu12==11.6.1.9 in /opt/conda/lib/python3.10/site-packages (from torch->-r requirements.txt (line 4)) (11.6.1.9)\n",
      "Requirement already satisfied: nvidia-cusparse-cu12==12.3.1.170 in /opt/conda/lib/python3.10/site-packages (from torch->-r requirements.txt (line 4)) (12.3.1.170)\n",
      "Requirement already satisfied: nvidia-nccl-cu12==2.21.5 in /opt/conda/lib/python3.10/site-packages (from torch->-r requirements.txt (line 4)) (2.21.5)\n",
      "Requirement already satisfied: nvidia-nvtx-cu12==12.4.127 in /opt/conda/lib/python3.10/site-packages (from torch->-r requirements.txt (line 4)) (12.4.127)\n",
      "Requirement already satisfied: nvidia-nvjitlink-cu12==12.4.127 in /opt/conda/lib/python3.10/site-packages (from torch->-r requirements.txt (line 4)) (12.4.127)\n",
      "Requirement already satisfied: triton==3.1.0 in /opt/conda/lib/python3.10/site-packages (from torch->-r requirements.txt (line 4)) (3.1.0)\n",
      "Requirement already satisfied: sympy==1.13.1 in /opt/conda/lib/python3.10/site-packages (from torch->-r requirements.txt (line 4)) (1.13.1)\n",
      "Requirement already satisfied: mpmath<1.4,>=1.1.0 in /opt/conda/lib/python3.10/site-packages (from sympy==1.13.1->torch->-r requirements.txt (line 4)) (1.3.0)\n",
      "Requirement already satisfied: cloudpickle>=1.2.0 in /opt/conda/lib/python3.10/site-packages (from gym->-r requirements.txt (line 5)) (2.2.1)\n",
      "Requirement already satisfied: gym-notices>=0.0.4 in /opt/conda/lib/python3.10/site-packages (from gym->-r requirements.txt (line 5)) (0.0.8)\n",
      "Requirement already satisfied: gymnasium<1.1.0,>=0.29.1 in /opt/conda/lib/python3.10/site-packages (from stable-baselines3>=2.0.0a4->stable-baselines3[extra]>=2.0.0a4->-r requirements.txt (line 6)) (1.0.0)\n",
      "Requirement already satisfied: pandas in /opt/conda/lib/python3.10/site-packages (from stable-baselines3>=2.0.0a4->stable-baselines3[extra]>=2.0.0a4->-r requirements.txt (line 6)) (2.2.2)\n",
      "Requirement already satisfied: matplotlib in /opt/conda/lib/python3.10/site-packages (from stable-baselines3>=2.0.0a4->stable-baselines3[extra]>=2.0.0a4->-r requirements.txt (line 6)) (3.8.4)\n",
      "Requirement already satisfied: scipy>=1.6.0 in /opt/conda/lib/python3.10/site-packages (from scikit-learn->-r requirements.txt (line 7)) (1.13.0)\n",
      "Requirement already satisfied: joblib>=1.2.0 in /opt/conda/lib/python3.10/site-packages (from scikit-learn->-r requirements.txt (line 7)) (1.4.0)\n",
      "Requirement already satisfied: threadpoolctl>=2.0.0 in /opt/conda/lib/python3.10/site-packages (from scikit-learn->-r requirements.txt (line 7)) (3.4.0)\n",
      "Requirement already satisfied: opencv-python in /opt/conda/lib/python3.10/site-packages (from stable-baselines3[extra]>=2.0.0a4->-r requirements.txt (line 6)) (4.10.0.84)\n",
      "Requirement already satisfied: pygame in /opt/conda/lib/python3.10/site-packages (from stable-baselines3[extra]>=2.0.0a4->-r requirements.txt (line 6)) (2.6.1)\n",
      "Requirement already satisfied: tensorboard>=2.9.1 in /opt/conda/lib/python3.10/site-packages (from stable-baselines3[extra]>=2.0.0a4->-r requirements.txt (line 6)) (2.18.0)\n",
      "Requirement already satisfied: psutil in /opt/conda/lib/python3.10/site-packages (from stable-baselines3[extra]>=2.0.0a4->-r requirements.txt (line 6)) (5.9.8)\n",
      "Requirement already satisfied: tqdm in /opt/conda/lib/python3.10/site-packages (from stable-baselines3[extra]>=2.0.0a4->-r requirements.txt (line 6)) (4.66.1)\n",
      "Requirement already satisfied: rich in /opt/conda/lib/python3.10/site-packages (from stable-baselines3[extra]>=2.0.0a4->-r requirements.txt (line 6)) (13.7.1)\n",
      "Requirement already satisfied: ale-py>=0.9.0 in /opt/conda/lib/python3.10/site-packages (from stable-baselines3[extra]>=2.0.0a4->-r requirements.txt (line 6)) (0.10.1)\n",
      "Requirement already satisfied: pillow in /opt/conda/lib/python3.10/site-packages (from stable-baselines3[extra]>=2.0.0a4->-r requirements.txt (line 6)) (10.3.0)\n",
      "Requirement already satisfied: farama-notifications>=0.0.1 in /opt/conda/lib/python3.10/site-packages (from gymnasium<1.1.0,>=0.29.1->stable-baselines3>=2.0.0a4->stable-baselines3[extra]>=2.0.0a4->-r requirements.txt (line 6)) (0.0.4)\n",
      "Requirement already satisfied: annotated-types>=0.4.0 in /opt/conda/lib/python3.10/site-packages (from pydantic!=1.8,!=1.8.1,!=2.0.0,!=2.0.1,!=2.1.0,<3.0.0,>=1.7.4->fastapi[dev,docs,standard]->-r requirements.txt (line 1)) (0.6.0)\n",
      "Requirement already satisfied: pydantic-core==2.18.1 in /opt/conda/lib/python3.10/site-packages (from pydantic!=1.8,!=1.8.1,!=2.0.0,!=2.0.1,!=2.1.0,<3.0.0,>=1.7.4->fastapi[dev,docs,standard]->-r requirements.txt (line 1)) (2.18.1)\n",
      "Requirement already satisfied: anyio<5,>=3.4.0 in /opt/conda/lib/python3.10/site-packages (from starlette<0.38.0,>=0.37.2->fastapi[dev,docs,standard]->-r requirements.txt (line 1)) (4.3.0)\n",
      "Requirement already satisfied: absl-py>=0.4 in /opt/conda/lib/python3.10/site-packages (from tensorboard>=2.9.1->stable-baselines3[extra]>=2.0.0a4->-r requirements.txt (line 6)) (2.1.0)\n",
      "Requirement already satisfied: grpcio>=1.48.2 in /opt/conda/lib/python3.10/site-packages (from tensorboard>=2.9.1->stable-baselines3[extra]>=2.0.0a4->-r requirements.txt (line 6)) (1.67.1)\n",
      "Requirement already satisfied: markdown>=2.6.8 in /opt/conda/lib/python3.10/site-packages (from tensorboard>=2.9.1->stable-baselines3[extra]>=2.0.0a4->-r requirements.txt (line 6)) (3.6)\n",
      "Requirement already satisfied: packaging in /opt/conda/lib/python3.10/site-packages (from tensorboard>=2.9.1->stable-baselines3[extra]>=2.0.0a4->-r requirements.txt (line 6)) (23.2)\n",
      "Requirement already satisfied: protobuf!=4.24.0,>=3.19.6 in /opt/conda/lib/python3.10/site-packages (from tensorboard>=2.9.1->stable-baselines3[extra]>=2.0.0a4->-r requirements.txt (line 6)) (4.25.3)\n",
      "Requirement already satisfied: setuptools>=41.0.0 in /opt/conda/lib/python3.10/site-packages (from tensorboard>=2.9.1->stable-baselines3[extra]>=2.0.0a4->-r requirements.txt (line 6)) (69.5.1)\n",
      "Requirement already satisfied: six>1.9 in /opt/conda/lib/python3.10/site-packages (from tensorboard>=2.9.1->stable-baselines3[extra]>=2.0.0a4->-r requirements.txt (line 6)) (1.16.0)\n",
      "Requirement already satisfied: tensorboard-data-server<0.8.0,>=0.7.0 in /opt/conda/lib/python3.10/site-packages (from tensorboard>=2.9.1->stable-baselines3[extra]>=2.0.0a4->-r requirements.txt (line 6)) (0.7.2)\n",
      "Requirement already satisfied: werkzeug>=1.0.1 in /opt/conda/lib/python3.10/site-packages (from tensorboard>=2.9.1->stable-baselines3[extra]>=2.0.0a4->-r requirements.txt (line 6)) (2.3.8)\n",
      "Requirement already satisfied: contourpy>=1.0.1 in /opt/conda/lib/python3.10/site-packages (from matplotlib->stable-baselines3>=2.0.0a4->stable-baselines3[extra]>=2.0.0a4->-r requirements.txt (line 6)) (1.2.1)\n",
      "Requirement already satisfied: cycler>=0.10 in /opt/conda/lib/python3.10/site-packages (from matplotlib->stable-baselines3>=2.0.0a4->stable-baselines3[extra]>=2.0.0a4->-r requirements.txt (line 6)) (0.12.1)\n",
      "Requirement already satisfied: fonttools>=4.22.0 in /opt/conda/lib/python3.10/site-packages (from matplotlib->stable-baselines3>=2.0.0a4->stable-baselines3[extra]>=2.0.0a4->-r requirements.txt (line 6)) (4.51.0)\n",
      "Requirement already satisfied: kiwisolver>=1.3.1 in /opt/conda/lib/python3.10/site-packages (from matplotlib->stable-baselines3>=2.0.0a4->stable-baselines3[extra]>=2.0.0a4->-r requirements.txt (line 6)) (1.4.5)\n",
      "Requirement already satisfied: pyparsing>=2.3.1 in /opt/conda/lib/python3.10/site-packages (from matplotlib->stable-baselines3>=2.0.0a4->stable-baselines3[extra]>=2.0.0a4->-r requirements.txt (line 6)) (3.1.2)\n",
      "Requirement already satisfied: python-dateutil>=2.7 in /opt/conda/lib/python3.10/site-packages (from matplotlib->stable-baselines3>=2.0.0a4->stable-baselines3[extra]>=2.0.0a4->-r requirements.txt (line 6)) (2.9.0)\n",
      "Requirement already satisfied: pytz>=2020.1 in /opt/conda/lib/python3.10/site-packages (from pandas->stable-baselines3>=2.0.0a4->stable-baselines3[extra]>=2.0.0a4->-r requirements.txt (line 6)) (2024.1)\n",
      "Requirement already satisfied: tzdata>=2022.7 in /opt/conda/lib/python3.10/site-packages (from pandas->stable-baselines3>=2.0.0a4->stable-baselines3[extra]>=2.0.0a4->-r requirements.txt (line 6)) (2024.1)\n",
      "Requirement already satisfied: markdown-it-py>=2.2.0 in /opt/conda/lib/python3.10/site-packages (from rich->stable-baselines3[extra]>=2.0.0a4->-r requirements.txt (line 6)) (3.0.0)\n",
      "Requirement already satisfied: pygments<3.0.0,>=2.13.0 in /opt/conda/lib/python3.10/site-packages (from rich->stable-baselines3[extra]>=2.0.0a4->-r requirements.txt (line 6)) (2.17.2)\n",
      "Requirement already satisfied: idna>=2.8 in /opt/conda/lib/python3.10/site-packages (from anyio<5,>=3.4.0->starlette<0.38.0,>=0.37.2->fastapi[dev,docs,standard]->-r requirements.txt (line 1)) (3.6)\n",
      "Requirement already satisfied: sniffio>=1.1 in /opt/conda/lib/python3.10/site-packages (from anyio<5,>=3.4.0->starlette<0.38.0,>=0.37.2->fastapi[dev,docs,standard]->-r requirements.txt (line 1)) (1.3.1)\n",
      "Requirement already satisfied: exceptiongroup>=1.0.2 in /opt/conda/lib/python3.10/site-packages (from anyio<5,>=3.4.0->starlette<0.38.0,>=0.37.2->fastapi[dev,docs,standard]->-r requirements.txt (line 1)) (1.2.0)\n",
      "Requirement already satisfied: mdurl~=0.1 in /opt/conda/lib/python3.10/site-packages (from markdown-it-py>=2.2.0->rich->stable-baselines3[extra]>=2.0.0a4->-r requirements.txt (line 6)) (0.1.2)\n",
      "\u001b[33mWARNING: Running pip as the 'root' user can result in broken permissions and conflicting behaviour with the system package manager. It is recommended to use a virtual environment instead: https://pip.pypa.io/warnings/venv\u001b[0m\u001b[33m\n",
      "\u001b[0mRequirement already satisfied: wandb in /opt/conda/lib/python3.10/site-packages (0.18.6)\n",
      "Requirement already satisfied: click!=8.0.0,>=7.1 in /opt/conda/lib/python3.10/site-packages (from wandb) (8.1.7)\n",
      "Requirement already satisfied: docker-pycreds>=0.4.0 in /opt/conda/lib/python3.10/site-packages (from wandb) (0.4.0)\n",
      "Requirement already satisfied: gitpython!=3.1.29,>=1.0.0 in /opt/conda/lib/python3.10/site-packages (from wandb) (3.1.43)\n",
      "Requirement already satisfied: platformdirs in /opt/conda/lib/python3.10/site-packages (from wandb) (4.1.0)\n",
      "Requirement already satisfied: protobuf!=4.21.0,!=5.28.0,<6,>=3.19.0 in /opt/conda/lib/python3.10/site-packages (from wandb) (4.25.3)\n",
      "Requirement already satisfied: psutil>=5.0.0 in /opt/conda/lib/python3.10/site-packages (from wandb) (5.9.8)\n",
      "Requirement already satisfied: pyyaml in /opt/conda/lib/python3.10/site-packages (from wandb) (6.0.1)\n",
      "Requirement already satisfied: requests<3,>=2.0.0 in /opt/conda/lib/python3.10/site-packages (from wandb) (2.31.0)\n",
      "Requirement already satisfied: sentry-sdk>=2.0.0 in /opt/conda/lib/python3.10/site-packages (from wandb) (2.18.0)\n",
      "Requirement already satisfied: setproctitle in /opt/conda/lib/python3.10/site-packages (from wandb) (1.3.3)\n",
      "Requirement already satisfied: setuptools in /opt/conda/lib/python3.10/site-packages (from wandb) (69.5.1)\n",
      "Requirement already satisfied: typing-extensions<5,>=4.4 in /opt/conda/lib/python3.10/site-packages (from wandb) (4.11.0)\n",
      "Requirement already satisfied: six>=1.4.0 in /opt/conda/lib/python3.10/site-packages (from docker-pycreds>=0.4.0->wandb) (1.16.0)\n",
      "Requirement already satisfied: gitdb<5,>=4.0.1 in /opt/conda/lib/python3.10/site-packages (from gitpython!=3.1.29,>=1.0.0->wandb) (4.0.11)\n",
      "Requirement already satisfied: charset-normalizer<4,>=2 in /opt/conda/lib/python3.10/site-packages (from requests<3,>=2.0.0->wandb) (3.3.2)\n",
      "Requirement already satisfied: idna<4,>=2.5 in /opt/conda/lib/python3.10/site-packages (from requests<3,>=2.0.0->wandb) (3.6)\n",
      "Requirement already satisfied: urllib3<3,>=1.21.1 in /opt/conda/lib/python3.10/site-packages (from requests<3,>=2.0.0->wandb) (2.2.1)\n",
      "Requirement already satisfied: certifi>=2017.4.17 in /opt/conda/lib/python3.10/site-packages (from requests<3,>=2.0.0->wandb) (2024.2.2)\n",
      "Requirement already satisfied: smmap<6,>=3.0.1 in /opt/conda/lib/python3.10/site-packages (from gitdb<5,>=4.0.1->gitpython!=3.1.29,>=1.0.0->wandb) (5.0.1)\n",
      "\u001b[33mWARNING: Running pip as the 'root' user can result in broken permissions and conflicting behaviour with the system package manager. It is recommended to use a virtual environment instead: https://pip.pypa.io/warnings/venv\u001b[0m\u001b[33m\n",
      "\u001b[0m"
     ]
    }
   ],
   "source": [
    "# Update and install display packages and stable baseline 3\n",
    "!pip install -r requirements.txt\n",
    "\n",
    "# !pip install \"stable-baselines3[extra]>=2.0.0a4\"\n",
    "!pip install wandb"
   ]
  },
  {
   "cell_type": "markdown",
   "metadata": {},
   "source": [
    "### 1.2) Import Libraries"
   ]
  },
  {
   "cell_type": "code",
   "execution_count": null,
   "metadata": {},
   "outputs": [
    {
     "name": "stdout",
     "output_type": "stream",
     "text": [
      "gym.__version__='1.0.0'\n",
      "stable_baselines3.__version__='2.4.0a11'\n"
     ]
    }
   ],
   "source": [
    "#=== Standard libraries for custom environment\n",
    "import sys\n",
    "import random\n",
    "import os\n",
    "import numpy as np\n",
    "import gymnasium as gym\n",
    "from typing import List\n",
    "from gymnasium import spaces\n",
    "from datetime import datetime\n",
    "from copy import deepcopy\n",
    "# from sklearn.preprocessing import MinMaxScaler\n",
    "\n",
    "#=== Custom utilities stored in .py files\n",
    "# Add the /app/src directory to the Python path\n",
    "from app.src.spark.data import loader\n",
    "from app.src.spark.data.models import Customer, Product, Category, Interaction, InteractionType\n",
    "from app.src.spark import utils\n",
    "\n",
    "#=== Stable Baselines3 model libraries\n",
    "import stable_baselines3\n",
    "from stable_baselines3 import A2C, PPO\n",
    "from stable_baselines3.common.logger import configure\n",
    "from stable_baselines3.common.callbacks import EvalCallback, BaseCallback\n",
    "from stable_baselines3.common.monitor import Monitor\n",
    "from stable_baselines3.common.vec_env import DummyVecEnv, SubprocVecEnv\n",
    "from stable_baselines3.common.preprocessing import get_flattened_obs_dim\n",
    "from stable_baselines3.common.torch_layers import BaseFeaturesExtractor\n",
    "import torch\n",
    "from torch import nn\n",
    "import wandb\n",
    "\n",
    "#=== Print the versions of gymnasium and stable_baselines3 for debugging purposes \n",
    "print(f\"{gym.__version__=}\")\n",
    "print(f\"{stable_baselines3.__version__=}\")"
   ]
  },
  {
   "cell_type": "markdown",
   "metadata": {},
   "source": [
    "### 1.3) Experiment configuration"
   ]
  },
  {
   "cell_type": "code",
   "execution_count": null,
   "metadata": {},
   "outputs": [],
   "source": [
    "project='spark'\n",
    "env_name = 'Spark'\n",
    "model_id='a2c'\n",
    "tb_log_name='A2C'\n",
    "label='main'\n",
    "inc=2\n",
    "run_name=f'{model_id}-{label}-{inc}'\n",
    "model_name_final = f\"{model_id}_model_final\"\n",
    "total_timesteps=int(3e6) # 3m timesteps for full training\n",
    "param_n_envs=1 # Added in case we wanted to allow multi-environment training via vector wrapper\n",
    "save_interval = total_timesteps/10\n",
    "\n",
    "# Weights and Biases callback configuration\n",
    "config = {\n",
    "    \"total_timesteps\": total_timesteps,\n",
    "    \"env_name\": env_name,\n",
    "}"
   ]
  },
  {
   "cell_type": "markdown",
   "metadata": {},
   "source": [
    "### 1.4) Define Directories"
   ]
  },
  {
   "cell_type": "code",
   "execution_count": 5,
   "metadata": {},
   "outputs": [
    {
     "name": "stdout",
     "output_type": "stream",
     "text": [
      "./output/spark/logs/a2c-main-2\n",
      "./output/spark/models/a2c-main-2\n"
     ]
    }
   ],
   "source": [
    "# output directoies\n",
    "base_dir = '.'\n",
    "output_dir = os.path.join(base_dir, 'output')\n",
    "env_dir =  os.path.join(output_dir, project)\n",
    "logs_dir = os.path.join(env_dir, fr'logs/{run_name}')\n",
    "models_dir = os.path.join(env_dir, fr'models/{run_name}')\n",
    "\n",
    "os.makedirs(logs_dir, exist_ok=True)\n",
    "os.makedirs(models_dir, exist_ok=True)\n",
    "\n",
    "print(logs_dir)\n",
    "print(models_dir)"
   ]
  },
  {
   "cell_type": "markdown",
   "metadata": {},
   "source": [
    "### 1.4) Weights and Bias initialisation"
   ]
  },
  {
   "cell_type": "code",
   "execution_count": 6,
   "metadata": {},
   "outputs": [
    {
     "name": "stderr",
     "output_type": "stream",
     "text": [
      "\u001b[34m\u001b[1mwandb\u001b[0m: \u001b[33mWARNING\u001b[0m WANDB_NOTEBOOK_NAME should be a path to a notebook file, couldn't find Exp2-A2C.\n",
      "\u001b[34m\u001b[1mwandb\u001b[0m: Using wandb-core as the SDK backend.  Please refer to https://wandb.me/wandb-core for more information.\n",
      "\u001b[34m\u001b[1mwandb\u001b[0m: Currently logged in as: \u001b[33mcrowley-m\u001b[0m (\u001b[33mcrowley-m-university-of-technology-sydney\u001b[0m). Use \u001b[1m`wandb login --relogin`\u001b[0m to force relogin\n"
     ]
    },
    {
     "data": {
      "text/html": [
       "Tracking run with wandb version 0.18.6"
      ],
      "text/plain": [
       "<IPython.core.display.HTML object>"
      ]
     },
     "metadata": {},
     "output_type": "display_data"
    },
    {
     "data": {
      "text/html": [
       "Run data is saved locally in <code>/root/A3/root/wandb/run-20241109_062730-hio46515</code>"
      ],
      "text/plain": [
       "<IPython.core.display.HTML object>"
      ]
     },
     "metadata": {},
     "output_type": "display_data"
    },
    {
     "data": {
      "text/html": [
       "Syncing run <strong><a href='https://wandb.ai/crowley-m-university-of-technology-sydney/spark/runs/hio46515' target=\"_blank\">a2c-main-2</a></strong> to <a href='https://wandb.ai/crowley-m-university-of-technology-sydney/spark' target=\"_blank\">Weights & Biases</a> (<a href='https://wandb.me/developer-guide' target=\"_blank\">docs</a>)<br/>"
      ],
      "text/plain": [
       "<IPython.core.display.HTML object>"
      ]
     },
     "metadata": {},
     "output_type": "display_data"
    },
    {
     "data": {
      "text/html": [
       " View project at <a href='https://wandb.ai/crowley-m-university-of-technology-sydney/spark' target=\"_blank\">https://wandb.ai/crowley-m-university-of-technology-sydney/spark</a>"
      ],
      "text/plain": [
       "<IPython.core.display.HTML object>"
      ]
     },
     "metadata": {},
     "output_type": "display_data"
    },
    {
     "data": {
      "text/html": [
       " View run at <a href='https://wandb.ai/crowley-m-university-of-technology-sydney/spark/runs/hio46515' target=\"_blank\">https://wandb.ai/crowley-m-university-of-technology-sydney/spark/runs/hio46515</a>"
      ],
      "text/plain": [
       "<IPython.core.display.HTML object>"
      ]
     },
     "metadata": {},
     "output_type": "display_data"
    }
   ],
   "source": [
    "os.environ['WANDB_API_KEY'] = '1df5a9458d8efa658e8df4b34a37ed2796398763'\n",
    "os.environ['WANDB_NOTEBOOK_NAME'] = 'Exp2-A2C'\n",
    "wandb.login()\n",
    "\n",
    "run = wandb.init(\n",
    "    project=project,\n",
    "    name=run_name,\n",
    "    config=config,\n",
    "    sync_tensorboard=True,  # auto-upload sb3's tensorboard metrics\n",
    "    save_code=True,  # optional\n",
    ")"
   ]
  },
  {
   "cell_type": "markdown",
   "metadata": {},
   "source": [
    "## 2) Utilities"
   ]
  },
  {
   "cell_type": "markdown",
   "metadata": {},
   "source": [
    "### 2.1) Custom Callback utility"
   ]
  },
  {
   "cell_type": "code",
   "execution_count": 7,
   "metadata": {},
   "outputs": [],
   "source": [
    "class WandbEvalCallback(EvalCallback, BaseCallback):\n",
    "    \"\"\"\n",
    "        Custom Callback that combines EvalCallback() and WandbEvalCallback().\n",
    "            - EvalCallback() independently evaluates the RL model and returns the \"Best performing\" one.\n",
    "            - WandbEvalCallback() ensures logs are uploaded to the Weights and Biases online server.\n",
    "\n",
    "        Sources:\n",
    "            - SB3 API Docs:         https://stable-baselines3.readthedocs.io/en/master/guide/callbacks.html\n",
    "            - SB3 codebase:         https://github.com/DLR-RM/stable-baselines3/blob/c62e9259db363bf32bd920405dbe83db94123271/stable_baselines3/common/callbacks.py\n",
    "            - Wandb codebase:       https://github.com/wandb/wandb/blob/main/wandb/integration/sb3/sb3.py\n",
    "    \"\"\"\n",
    "\n",
    "    def __init__(self, \n",
    "                 eval_env, \n",
    "                 wandb_run,\n",
    "                 save_interval: int = 10000,\n",
    "                 eval_freq: int = 10000, \n",
    "                 save_path: str = None, \n",
    "                 n_eval_episodes: int = 5, \n",
    "                 deterministic: bool = True, \n",
    "                 render: bool = False, \n",
    "                 verbose: int = 1):\n",
    "        \n",
    "        # Initialize EvalCallback\n",
    "        EvalCallback.__init__(self, \n",
    "                               eval_env=eval_env, \n",
    "                               eval_freq=eval_freq, \n",
    "                               best_model_save_path=save_path, \n",
    "                               n_eval_episodes=n_eval_episodes, \n",
    "                               deterministic=deterministic, \n",
    "                               render=render, \n",
    "                               verbose=verbose)\n",
    "\n",
    "        # Initialize BaseCallback (WandbCallback)\n",
    "        BaseCallback.__init__(self, verbose=verbose)\n",
    "        self.wandb_run = wandb_run\n",
    "        self.best_mean_reward = -np.inf\n",
    "        self.save_interval = save_interval\n",
    "        self.save_path = save_path\n",
    "\n",
    "    def _on_step(self) -> bool:\n",
    "        # Call the parent method to perform evaluation\n",
    "        super_result = super(WandbEvalCallback, self)._on_step()\n",
    "        \n",
    "        if super_result:\n",
    "            # Log metrics to wandb\n",
    "            self.wandb_run.log({\"mean_reward\": self.last_mean_reward, \"step\": self.num_timesteps})\n",
    "\n",
    "            # Log best model if it was updated\n",
    "            if self.save_path is not None and self.best_mean_reward is not None:\n",
    "                self.wandb_run.log({\"best_mean_reward\": self.best_mean_reward, \"step\": self.num_timesteps})\n",
    "\n",
    "        # Save the model every 'save_interval' steps\n",
    "        if self.num_timesteps % self.save_interval == 0:\n",
    "            interval_save=True\n",
    "            save_file = os.path.join(self.save_path, f'{model_id}_model_{self.num_timesteps}')\n",
    "            self.model.save(save_file)\n",
    "            if self.verbose > 0:\n",
    "                print(f'Saving model to {save_file}.zip')\n",
    "\n",
    "        return super_result or interval_save\n",
    "\n",
    "    def _on_training_end(self) -> None:\n",
    "        # Log final metrics at the end of training\n",
    "        self.wandb_run.log({\"training_end\": True})\n"
   ]
  },
  {
   "cell_type": "markdown",
   "metadata": {},
   "source": [
    "## 3) Custom Environment Set-up"
   ]
  },
  {
   "cell_type": "markdown",
   "metadata": {},
   "source": [
    "### 3.1) Product Recommendation Environment"
   ]
  },
  {
   "cell_type": "code",
   "execution_count": null,
   "metadata": {},
   "outputs": [],
   "source": [
    "class RecommendationEnv(gym.Env):\n",
    "    def __init__(self, users:List[Customer], products:List[Product], categories:List[Category], top_k:int, learning_mode:str='online'):\n",
    "        super().__init__()\n",
    "        \n",
    "        self.users = users                  # list of users as states\n",
    "        self.products = products            # products as actions, potential recommendations\n",
    "        self.categories = categories\n",
    "        self.top_k = top_k                  # number of recommendations\n",
    "        self.learning_mode = learning_mode  # Online learning allows interaction history to be saved between episodes, offline learning resets them\n",
    "        self.user_idx = 0                   # index of users list, not user_id\n",
    "        self.current_step = 0               # step is also the interactions list index\n",
    "        \n",
    "        for user in self.users:\n",
    "            user.views = np.zeros(len(products), dtype=np.int16)\n",
    "            user.likes = np.zeros(len(products), dtype=np.int16)\n",
    "            user.buys = np.zeros(len(products), dtype=np.int16)\n",
    "            user.ratings = np.zeros(len(products), dtype=np.int16)\n",
    "            for interaction in user.interactions:\n",
    "                i_type = interaction.type.value    \n",
    "                product_idx = interaction.product_idx  \n",
    "                if i_type == InteractionType.VIEW.value:\n",
    "                    user.views[product_idx] += 1\n",
    "                elif i_type == InteractionType.LIKE.value:\n",
    "                    user.likes[product_idx] += 1\n",
    "                elif i_type == InteractionType.BUY.value:\n",
    "                    user.buys[product_idx] += 1\n",
    "                elif i_type == InteractionType.RATE.value:\n",
    "                    user.ratings[product_idx] = interaction.value\n",
    "        \n",
    "        if self.learning_mode!='online':\n",
    "            self.baseline_users=deepcopy(self.users)\n",
    "\n",
    "        # define action space to return top_k recommended product ids.    \n",
    "        self.action_space = spaces.MultiDiscrete([len(products)] * top_k) \n",
    "        \n",
    "        # number of customers as states\n",
    "        # states are derived from customer profiles and interactioms\n",
    "        # Users list will keep track of unique users\n",
    "        # States include subset of features including product, interaction, ratings, and time in one-hot-encoding format\n",
    "        # States exclude user_ids for policy network generalisation. But internal users list will be used as reference        \n",
    "        self.observation_space = spaces.Dict({\n",
    "            'pref_prod': spaces.Box(low=0, high=1, shape=(len(self.products),), dtype=np.float32),\n",
    "            'pref_cat': spaces.Box(low=0, high=1, shape=(len(self.categories),), dtype=np.float32),\n",
    "            'buys': spaces.Box(low=0, high=1000, shape=(len(self.products),), dtype=np.int16),\n",
    "            'views': spaces.Box(low=0, high=1000, shape=(len(self.products),), dtype=np.int16),\n",
    "            'likes': spaces.Box(low=0, high=1000, shape=(len(self.products),), dtype=np.int16),\n",
    "            'ratings': spaces.Box(low=0, high=5, shape=(len(self.products),), dtype=np.uint8),\n",
    "            'product': spaces.Box(low=0, high=1, shape=(len(self.products),), dtype=np.uint8),\n",
    "            'interaction': spaces.Box(low=0, high=1, shape=(len(list(InteractionType)),), dtype=np.uint8),\n",
    "            'rating': spaces.Discrete(6)\n",
    "            }) \n",
    "        \n",
    "        \n",
    "    def reset(self, seed=None, options=None):\n",
    "        # Call the parent class's reset method to handle seeding\n",
    "        super().reset(seed=seed)\n",
    "\n",
    "        # Added hack to reset the users during every reset()\n",
    "        if self.learning_mode!='online':\n",
    "            self.users=deepcopy(self.baseline_users)\n",
    "\n",
    "        self.user_idx = np.random.randint(len(self.users)) # may run through users one by one\n",
    "        user = self.users[self.user_idx]\n",
    "        self.current_step = 0\n",
    "        return self._get_observation(user), {}# get current user features as states\n",
    "\n",
    "    def step(self, rec_products, interaction:Interaction=None):\n",
    "        \"\"\" randomly interacting with product to mimic real user unpredictable behaviours \"\"\"\n",
    "        self.current_step += 1\n",
    "        \n",
    "        # interaction passed in fro\n",
    "        if interaction:    \n",
    "            self.user_idx = interaction.customer_idx\n",
    "        else:       \n",
    "            # simulate selected recommended product and interaction\n",
    "            interaction = self._simulate_interaction(rec_products) # generate random interaction\n",
    "        \n",
    "        reward = 0\n",
    "        done = False\n",
    "        \n",
    "        # reward function if the recommended product is clicked\n",
    "        if interaction.product_idx in rec_products:\n",
    "            if interaction.type == InteractionType.NONE:\n",
    "                reward = -1 # no interaction, customers not interested in recommendations\n",
    "            elif interaction.type ==  InteractionType.VIEW:\n",
    "                reward = 3\n",
    "            elif interaction.type ==  InteractionType.LIKE:\n",
    "                reward = 10\n",
    "            elif interaction.type ==  InteractionType.BUY:\n",
    "                reward = 50\n",
    "            elif interaction.type ==  InteractionType.RATE:            \n",
    "                reward = (interaction.value - 2)  * 3 # rating of 1 is negative\n",
    "        \n",
    "        done = interaction.type ==  InteractionType.SESSION_CLOSE\n",
    "        \n",
    "        interaction_info = {\n",
    "                'interaction': {\n",
    "                    'idx': -1,\n",
    "                    'timestamp': interaction.timestamp.strftime(\"%Y-%m-%d %H:%M:%S\"),\n",
    "                    'customer_id': interaction.customer_idx,\n",
    "                    'product_id': interaction.product_idx,\n",
    "                    'interaction': interaction.type.value,\n",
    "                    'rating': interaction.value\n",
    "                }\n",
    "            }\n",
    "        \n",
    "        user = self.users[self.user_idx]\n",
    "        \n",
    "        return self._update_observation(user, interaction), reward, done, False, interaction_info\n",
    "\n",
    "    def _update_observation(self, user:Customer, interaction:Interaction):            \n",
    "        if interaction.type == InteractionType.VIEW:\n",
    "            user.views[interaction.product_idx] += 1\n",
    "        elif interaction.type == InteractionType.LIKE:\n",
    "            user.likes[interaction.product_idx] += 1\n",
    "        elif interaction.type == InteractionType.BUY:\n",
    "            user.buys[interaction.product_idx] += 1\n",
    "        elif interaction.type == InteractionType.RATE:\n",
    "            user.ratings[interaction.product_idx] = interaction.value\n",
    "            \n",
    "        product_obs = np.zeros(len(self.products), dtype=np.int16)\n",
    "        if interaction.type == InteractionType.VIEW \\\n",
    "            or interaction.type == InteractionType.LIKE  \\\n",
    "            or interaction.type == InteractionType.BUY \\\n",
    "            or interaction.type == InteractionType.RATE:\n",
    "                product_obs = utils.one_hot_encode(interaction.product_idx, len(self.products))\n",
    "        \n",
    "        # update observation based on new data  \n",
    "        obs = {\n",
    "                'pref_prod': self._get_product_preferences(user),\n",
    "                'pref_cat': self._get_category_preferences(user), \n",
    "                'buys': user.buys,\n",
    "                'views': user.views,\n",
    "                'likes': user.likes,\n",
    "                'ratings': user.ratings,\n",
    "                'product': product_obs,\n",
    "                'interaction': self._get_interaction_observation(interaction),\n",
    "                'rating': interaction.value if interaction.type == InteractionType.RATE else 0 \n",
    "            }\n",
    "        \n",
    "        return obs\n",
    "    \n",
    "    def update_observation(self, user:Customer, interaction:Interaction):\n",
    "        return self._update_observation(user, interaction)\n",
    "\n",
    "    def _get_observation(self, user:Customer): \n",
    "        \n",
    "        obs = {\n",
    "                'pref_prod': self._get_product_preferences(user),\n",
    "                'pref_cat': self._get_category_preferences(user), \n",
    "                'buys': user.buys,\n",
    "                'views': user.views,\n",
    "                'likes': user.likes,\n",
    "                'ratings': user.ratings,\n",
    "                'product': np.zeros(len(self.products)),\n",
    "                'interaction': np.zeros(len(list(InteractionType))),\n",
    "                'rating': 0 \n",
    "            }\n",
    "        \n",
    "        return obs\n",
    "        \n",
    "    def _get_interaction_observation(self, interaction:Interaction):\n",
    "        idx = list(InteractionType).index(interaction.type)\n",
    "        size = len(InteractionType)\n",
    "        \n",
    "        return utils.one_hot_encode(idx, size)\n",
    "    \n",
    "    # calculate preferences based on past interactions\n",
    "    def _get_product_preferences(self, user:Customer):\n",
    "        view_prefs = user.views / 20\n",
    "        purchase_prefs = user.buys\n",
    "        like_prefs = user.likes / 15\n",
    "\n",
    "        rating_prefs = user.ratings.copy()\n",
    "        rating_prefs[rating_prefs > 0] -= 2\n",
    "        \n",
    "        product_prefs = view_prefs + purchase_prefs + like_prefs+ rating_prefs\n",
    "        \n",
    "        product_prefs / 5 # reduce space\n",
    "        \n",
    "        return product_prefs    # calculate preferences based on past interactions\n",
    "    \n",
    "    def _get_category_preferences(self, user:Customer):\n",
    "        prod_prefs = self._get_product_preferences(user)\n",
    "        cat_prefs = np.zeros(len(self.categories), np.float32)\n",
    "        \n",
    "        for idx, prod_pref in enumerate(prod_prefs):\n",
    "            if prod_pref > 0:\n",
    "                product = self.products[idx]\n",
    "                cat_idx = product.category.idx\n",
    "                cat_prefs[cat_idx] += prod_pref # accumulation of fav products for this cat\n",
    "                # print(f\"added pf {prod_pref} to cat {cat_idx}\")\n",
    "                \n",
    "        cat_prefs = cat_prefs / 5 # reduce space\n",
    "           \n",
    "        return cat_prefs\n",
    "\n",
    "    def _simulate_interaction(self, product_ids):\n",
    "        user = self.users[self.user_idx]\n",
    "        product_list = []\n",
    "        \n",
    "        # simulate selection\n",
    "        num_products = len(product_ids)\n",
    "        prod_scores = np.zeros(num_products, np.uint8)\n",
    "        product_prefs = self._get_product_preferences(user)\n",
    "        category_prefs = self._get_category_preferences(user)\n",
    "        product_probs = np.full((num_products,), 1.0 / num_products) # equal probs by default\n",
    "        \n",
    "        for idx, pid in enumerate(product_ids):\n",
    "            product_list.append(self.products[pid]) # get the product objects\n",
    "            prod_scores[idx] = product_prefs[pid]\n",
    "            \n",
    "        # combining category prefs to calculate probabilities\n",
    "        for idx, product in enumerate(product_list):\n",
    "            cid = product.category.idx\n",
    "            prod_scores[idx] += category_prefs[cid] # scores higher for favourite categories\n",
    "    \n",
    "        # Ensure the probabilities sum to 1 for a valid probability distribution\n",
    "        if np.max(prod_scores) > 0: # probability selection based on prefernces\n",
    "            product_probs = np.array(prod_scores) / sum(prod_scores)\n",
    "\n",
    "        # Randomly select a product based on the defined probabilities\n",
    "        selected_product_id = np.random.choice(product_ids, p=product_probs)\n",
    "        \n",
    "        # simulate interaction for the selected product\n",
    "        inter_types = list(InteractionType)\n",
    "        inter_scores = np.zeros(len(inter_types), np.uint8)\n",
    "        inter_probs = np.full((len(inter_types),), 1.0 / len(inter_types)) # equal probs by default        \n",
    "        inter_probs[-1] = 0.1 # lower prob for SESSION_CLOSE ending epsidoe flag to encourage longer training\n",
    "        \n",
    "        for idx, inter_type in enumerate(inter_types):\n",
    "            if inter_type == InteractionType.VIEW:\n",
    "                inter_scores[idx] = user.views[selected_product_id]\n",
    "            if inter_type == InteractionType.LIKE:\n",
    "                inter_scores[idx] = user.likes[selected_product_id]\n",
    "            if inter_type == InteractionType.BUY:\n",
    "                inter_scores[idx] = user.buys[selected_product_id]\n",
    "            if inter_type == InteractionType.RATE:\n",
    "                inter_scores[idx] = user.ratings[selected_product_id]\n",
    "        \n",
    "        if np.max(inter_scores) > 0:\n",
    "            inter_scores += 1 # default score for interaction that are 0\n",
    "            inter_scores = inter_scores * inter_probs # scale distribution\n",
    "            inter_probs = np.array(inter_scores) / sum(inter_scores)\n",
    "\n",
    "        # Randomly select a product based on the defined probabilities\n",
    "        inter_probs = np.array(inter_probs) / sum(inter_probs) # normalise\n",
    "        selected_interaction_type = np.random.choice(inter_types, p=inter_probs)\n",
    "        \n",
    "        selected_product_rating = random.randint(0, 5)\n",
    "        if selected_interaction_type == InteractionType.RATE:\n",
    "            # likely rating if the product is a prefered product\n",
    "            prod_pref_score = product_prefs[selected_product_id]\n",
    "            max_pref_score = np.max(product_prefs)\n",
    "            if prod_pref_score > 0: # one of favourite products, rating of 2-5\n",
    "                selected_product_rating = int((prod_pref_score/max_pref_score) * 3) + 2\n",
    "                \n",
    "        rating_probs = np.full(6, 1/6)\n",
    "        rating_probs[selected_product_rating] = 0.7 # up chance of raing\n",
    "        rating_probs = rating_probs/sum(rating_probs) # normlise\n",
    "        selected_product_rating = np.random.choice([0,1,2,3,4,5], p=rating_probs)\n",
    "            \n",
    "        user_id = self.user_idx\n",
    "        interaction_time = datetime.now()        \n",
    "        interaction = Interaction(-1, interaction_time, user_id, selected_product_id, selected_interaction_type, selected_product_rating)\n",
    "\n",
    "        return interaction\n",
    "\n",
    "    def seed(self, seed=None):\n",
    "        \"\"\"\n",
    "        Set the seed for reproducibility.\n",
    "        \"\"\"\n",
    "        self.np_random, seed = gym.utils.seeding.np_random(seed)\n",
    "        random.seed(seed)\n",
    "        np.random.seed(seed)\n",
    "        return [seed]\n",
    "    \n",
    "    def render(self, mode='human'):\n",
    "        if hasattr(self, 'last_action'):\n",
    "            print(f\"Recommended Product ID (Last Action): {self.last_action}\")\n",
    "        else:\n",
    "            print(\"No product recommended yet.\")\n",
    "\n",
    "        # Optionally, print the reward received for the last action\n",
    "        if hasattr(self, 'last_reward'):\n",
    "            print(f\"Reward for Last Action: {self.last_reward}\")\n",
    "\n",
    "        print(\"-----\")\n",
    "\n",
    "    def close(self):\n",
    "        pass"
   ]
  },
  {
   "cell_type": "markdown",
   "metadata": {},
   "source": [
    "### 2.3) Load environment data"
   ]
  },
  {
   "cell_type": "markdown",
   "metadata": {},
   "source": [
    "Loading products and customers from custom dataloaders in spark.data.loaders.py"
   ]
  },
  {
   "cell_type": "code",
   "execution_count": 9,
   "metadata": {},
   "outputs": [],
   "source": [
    "products = loader.load_products()\n",
    "customers = loader.load_customers(include_interactions=True)\n",
    "categories = loader.load_categories()"
   ]
  },
  {
   "cell_type": "markdown",
   "metadata": {},
   "source": [
    "### 2.4) Initialise training and evaluation environments"
   ]
  },
  {
   "cell_type": "code",
   "execution_count": null,
   "metadata": {},
   "outputs": [
    {
     "name": "stdout",
     "output_type": "stream",
     "text": [
      "Dict('buys': Box(0, 1000, (295,), int16), 'interaction': Box(0, 1, (7,), uint8), 'likes': Box(0, 1000, (295,), int16), 'pref_cat': Box(0.0, 1.0, (38,), float32), 'pref_prod': Box(0.0, 1.0, (295,), float32), 'product': Box(0, 1, (295,), uint8), 'rating': Discrete(6), 'ratings': Box(0, 5, (295,), uint8), 'views': Box(0, 1000, (295,), int16))\n"
     ]
    }
   ],
   "source": [
    "# Training environment\n",
    "env = DummyVecEnv([lambda: Monitor(RecommendationEnv(customers, products, categories, top_k=10, learning_mode='online'))])\n",
    "env.seed(100)\n",
    "\n",
    "# Evaluation environment for WandbEvalCallback\n",
    "eval_env = DummyVecEnv([lambda: Monitor(RecommendationEnv(customers, products, categories, top_k=10, learning_mode='online'))])\n",
    "\n",
    "print(env.observation_space)"
   ]
  },
  {
   "cell_type": "markdown",
   "metadata": {},
   "source": [
    "## 3) Define model"
   ]
  },
  {
   "cell_type": "markdown",
   "metadata": {},
   "source": [
    "### 3.2) Define Hyperparameters"
   ]
  },
  {
   "cell_type": "markdown",
   "metadata": {},
   "source": [
    "UserWarning: You have specified a mini-batch size of 64, but because the `RolloutBuffer` is of size `n_steps * n_envs = 100`, after every 1 untruncated mini-batches, there will be a truncated mini-batch of size 36\n",
    "We recommend using a `batch_size` that is a factor of `n_steps * n_envs`.\n",
    "Info: (n_steps=100 and n_envs=1)\n",
    "  warnings.warn(\n"
   ]
  },
  {
   "cell_type": "code",
   "execution_count": 12,
   "metadata": {},
   "outputs": [],
   "source": [
    "param_clip_range=0.2\n",
    "param_learning_rate=2.5e-4\n",
    "param_gamma=0.95\n",
    "param_gae_lambda=0.99\n",
    "param_n_steps=100\n",
    "param_ent_coef = 0.01"
   ]
  },
  {
   "cell_type": "markdown",
   "metadata": {},
   "source": [
    "### 3.3) Define model"
   ]
  },
  {
   "cell_type": "code",
   "execution_count": 13,
   "metadata": {},
   "outputs": [],
   "source": [
    "model = A2C(\n",
    "    env=env,\n",
    "    policy='MultiInputPolicy',\n",
    "    verbose=0,\n",
    "    learning_rate=param_learning_rate, \n",
    "    n_steps=param_n_steps,\n",
    "    ent_coef=param_ent_coef,\n",
    "    gamma=param_gamma,\n",
    "    gae_lambda=param_gae_lambda,\n",
    "    # policy_kwargs={'features_extractor_class': CustomANN},\n",
    "    tensorboard_log=logs_dir\n",
    ")\n"
   ]
  },
  {
   "cell_type": "markdown",
   "metadata": {},
   "source": [
    "## 4) Model training"
   ]
  },
  {
   "cell_type": "markdown",
   "metadata": {},
   "source": [
    "### 4.1) Execute training"
   ]
  },
  {
   "cell_type": "code",
   "execution_count": null,
   "metadata": {},
   "outputs": [],
   "source": [
    "# Configure logger for stdout, CSV, and TensorBoard\n",
    "new_logger = configure(str(logs_dir), [\"stdout\", \"csv\", \"tensorboard\"])\n",
    "model.set_logger(new_logger)\n",
    "\n",
    "# Model learning with WandbCallback and interim model saving\n",
    "model.learn(\n",
    "    total_timesteps=config[\"total_timesteps\"],\n",
    "    callback=WandbEvalCallback(\n",
    "                                eval_env=eval_env,\n",
    "                                wandb_run=run,\n",
    "                                save_interval=save_interval,\n",
    "                                eval_freq=save_interval,\n",
    "                                save_path=models_dir\n",
    "                            )\n",
    "    )\n",
    "\n",
    "# Save the final model after training completes\n",
    "final_model_path = os.path.join(models_dir, model_name_final)\n",
    "model.save(final_model_path)"
   ]
  },
  {
   "cell_type": "markdown",
   "metadata": {},
   "source": [
    "### 4.2) Close out WandB session"
   ]
  },
  {
   "cell_type": "code",
   "execution_count": null,
   "metadata": {
    "tags": []
   },
   "outputs": [],
   "source": [
    "api = wandb.Api()\n",
    "\n",
    "# Access attributes directly from the run object\n",
    "# or from the W&B App\n",
    "username = wandb.run.entity\n",
    "project = wandb.run.project\n",
    "run_id = wandb.run.id\n",
    "\n",
    "run = api.run(f\"{username}/{project}/{run_id}\")\n",
    "run.config[\"bar\"] = 32\n",
    "run.update()"
   ]
  },
  {
   "cell_type": "markdown",
   "metadata": {},
   "source": [
    "## 5) Testing"
   ]
  },
  {
   "cell_type": "markdown",
   "metadata": {},
   "source": [
    "### 5.1) Load tensorboard session"
   ]
  },
  {
   "cell_type": "code",
   "execution_count": null,
   "metadata": {},
   "outputs": [],
   "source": [
    "# %load_ext tensorboard"
   ]
  },
  {
   "cell_type": "code",
   "execution_count": null,
   "metadata": {},
   "outputs": [],
   "source": [
    "# %tensorboard --logdir={log_dir}"
   ]
  },
  {
   "cell_type": "markdown",
   "metadata": {},
   "source": [
    "### 5.2) Outcome debugging"
   ]
  },
  {
   "cell_type": "code",
   "execution_count": null,
   "metadata": {},
   "outputs": [],
   "source": [
    "# Construct observation data for customer 10\n",
    "test_customer = customers[10] \n",
    "\n",
    "# simulated laset selected product\n",
    "test_product = products[53]\n",
    "\n",
    "# it only uses the previous interaction to predict\n",
    "previous_interaction = Interaction(idx = '0', \n",
    "                          timestamp = datetime.now(), \n",
    "                          customer_idx = test_customer.idx, \n",
    "                          product_idx = test_product.idx, \n",
    "                          type = InteractionType.RATE,\n",
    "                          value = 5,)\n",
    "\n",
    "new_obs = env.update_observation(test_customer, previous_interaction)"
   ]
  },
  {
   "cell_type": "code",
   "execution_count": null,
   "metadata": {},
   "outputs": [],
   "source": [
    "recommended_products, _states = model.predict(new_obs)\n",
    "print(recommended_products)"
   ]
  },
  {
   "cell_type": "code",
   "execution_count": null,
   "metadata": {},
   "outputs": [],
   "source": [
    "obs, rewards, done, flag, simulated_interaction_info = env.step(recommended_products)\n",
    "simulated_interaction_info"
   ]
  },
  {
   "cell_type": "code",
   "execution_count": null,
   "metadata": {},
   "outputs": [],
   "source": [
    "obs = env.reset()\n",
    "for _ in range(20):  # Make 10 recommendations\n",
    "    action, _states = model.predict(obs)\n",
    "    obs, rewards, done, _ = env.step(action)\n",
    "    print(\"Recommended products:\", action)"
   ]
  }
 ],
 "metadata": {
  "availableInstances": [
   {
    "_defaultOrder": 0,
    "_isFastLaunch": true,
    "category": "General purpose",
    "gpuNum": 0,
    "hideHardwareSpecs": false,
    "memoryGiB": 4,
    "name": "ml.t3.medium",
    "vcpuNum": 2
   },
   {
    "_defaultOrder": 1,
    "_isFastLaunch": false,
    "category": "General purpose",
    "gpuNum": 0,
    "hideHardwareSpecs": false,
    "memoryGiB": 8,
    "name": "ml.t3.large",
    "vcpuNum": 2
   },
   {
    "_defaultOrder": 2,
    "_isFastLaunch": false,
    "category": "General purpose",
    "gpuNum": 0,
    "hideHardwareSpecs": false,
    "memoryGiB": 16,
    "name": "ml.t3.xlarge",
    "vcpuNum": 4
   },
   {
    "_defaultOrder": 3,
    "_isFastLaunch": false,
    "category": "General purpose",
    "gpuNum": 0,
    "hideHardwareSpecs": false,
    "memoryGiB": 32,
    "name": "ml.t3.2xlarge",
    "vcpuNum": 8
   },
   {
    "_defaultOrder": 4,
    "_isFastLaunch": true,
    "category": "General purpose",
    "gpuNum": 0,
    "hideHardwareSpecs": false,
    "memoryGiB": 8,
    "name": "ml.m5.large",
    "vcpuNum": 2
   },
   {
    "_defaultOrder": 5,
    "_isFastLaunch": false,
    "category": "General purpose",
    "gpuNum": 0,
    "hideHardwareSpecs": false,
    "memoryGiB": 16,
    "name": "ml.m5.xlarge",
    "vcpuNum": 4
   },
   {
    "_defaultOrder": 6,
    "_isFastLaunch": false,
    "category": "General purpose",
    "gpuNum": 0,
    "hideHardwareSpecs": false,
    "memoryGiB": 32,
    "name": "ml.m5.2xlarge",
    "vcpuNum": 8
   },
   {
    "_defaultOrder": 7,
    "_isFastLaunch": false,
    "category": "General purpose",
    "gpuNum": 0,
    "hideHardwareSpecs": false,
    "memoryGiB": 64,
    "name": "ml.m5.4xlarge",
    "vcpuNum": 16
   },
   {
    "_defaultOrder": 8,
    "_isFastLaunch": false,
    "category": "General purpose",
    "gpuNum": 0,
    "hideHardwareSpecs": false,
    "memoryGiB": 128,
    "name": "ml.m5.8xlarge",
    "vcpuNum": 32
   },
   {
    "_defaultOrder": 9,
    "_isFastLaunch": false,
    "category": "General purpose",
    "gpuNum": 0,
    "hideHardwareSpecs": false,
    "memoryGiB": 192,
    "name": "ml.m5.12xlarge",
    "vcpuNum": 48
   },
   {
    "_defaultOrder": 10,
    "_isFastLaunch": false,
    "category": "General purpose",
    "gpuNum": 0,
    "hideHardwareSpecs": false,
    "memoryGiB": 256,
    "name": "ml.m5.16xlarge",
    "vcpuNum": 64
   },
   {
    "_defaultOrder": 11,
    "_isFastLaunch": false,
    "category": "General purpose",
    "gpuNum": 0,
    "hideHardwareSpecs": false,
    "memoryGiB": 384,
    "name": "ml.m5.24xlarge",
    "vcpuNum": 96
   },
   {
    "_defaultOrder": 12,
    "_isFastLaunch": false,
    "category": "General purpose",
    "gpuNum": 0,
    "hideHardwareSpecs": false,
    "memoryGiB": 8,
    "name": "ml.m5d.large",
    "vcpuNum": 2
   },
   {
    "_defaultOrder": 13,
    "_isFastLaunch": false,
    "category": "General purpose",
    "gpuNum": 0,
    "hideHardwareSpecs": false,
    "memoryGiB": 16,
    "name": "ml.m5d.xlarge",
    "vcpuNum": 4
   },
   {
    "_defaultOrder": 14,
    "_isFastLaunch": false,
    "category": "General purpose",
    "gpuNum": 0,
    "hideHardwareSpecs": false,
    "memoryGiB": 32,
    "name": "ml.m5d.2xlarge",
    "vcpuNum": 8
   },
   {
    "_defaultOrder": 15,
    "_isFastLaunch": false,
    "category": "General purpose",
    "gpuNum": 0,
    "hideHardwareSpecs": false,
    "memoryGiB": 64,
    "name": "ml.m5d.4xlarge",
    "vcpuNum": 16
   },
   {
    "_defaultOrder": 16,
    "_isFastLaunch": false,
    "category": "General purpose",
    "gpuNum": 0,
    "hideHardwareSpecs": false,
    "memoryGiB": 128,
    "name": "ml.m5d.8xlarge",
    "vcpuNum": 32
   },
   {
    "_defaultOrder": 17,
    "_isFastLaunch": false,
    "category": "General purpose",
    "gpuNum": 0,
    "hideHardwareSpecs": false,
    "memoryGiB": 192,
    "name": "ml.m5d.12xlarge",
    "vcpuNum": 48
   },
   {
    "_defaultOrder": 18,
    "_isFastLaunch": false,
    "category": "General purpose",
    "gpuNum": 0,
    "hideHardwareSpecs": false,
    "memoryGiB": 256,
    "name": "ml.m5d.16xlarge",
    "vcpuNum": 64
   },
   {
    "_defaultOrder": 19,
    "_isFastLaunch": false,
    "category": "General purpose",
    "gpuNum": 0,
    "hideHardwareSpecs": false,
    "memoryGiB": 384,
    "name": "ml.m5d.24xlarge",
    "vcpuNum": 96
   },
   {
    "_defaultOrder": 20,
    "_isFastLaunch": false,
    "category": "General purpose",
    "gpuNum": 0,
    "hideHardwareSpecs": true,
    "memoryGiB": 0,
    "name": "ml.geospatial.interactive",
    "supportedImageNames": [
     "sagemaker-geospatial-v1-0"
    ],
    "vcpuNum": 0
   },
   {
    "_defaultOrder": 21,
    "_isFastLaunch": true,
    "category": "Compute optimized",
    "gpuNum": 0,
    "hideHardwareSpecs": false,
    "memoryGiB": 4,
    "name": "ml.c5.large",
    "vcpuNum": 2
   },
   {
    "_defaultOrder": 22,
    "_isFastLaunch": false,
    "category": "Compute optimized",
    "gpuNum": 0,
    "hideHardwareSpecs": false,
    "memoryGiB": 8,
    "name": "ml.c5.xlarge",
    "vcpuNum": 4
   },
   {
    "_defaultOrder": 23,
    "_isFastLaunch": false,
    "category": "Compute optimized",
    "gpuNum": 0,
    "hideHardwareSpecs": false,
    "memoryGiB": 16,
    "name": "ml.c5.2xlarge",
    "vcpuNum": 8
   },
   {
    "_defaultOrder": 24,
    "_isFastLaunch": false,
    "category": "Compute optimized",
    "gpuNum": 0,
    "hideHardwareSpecs": false,
    "memoryGiB": 32,
    "name": "ml.c5.4xlarge",
    "vcpuNum": 16
   },
   {
    "_defaultOrder": 25,
    "_isFastLaunch": false,
    "category": "Compute optimized",
    "gpuNum": 0,
    "hideHardwareSpecs": false,
    "memoryGiB": 72,
    "name": "ml.c5.9xlarge",
    "vcpuNum": 36
   },
   {
    "_defaultOrder": 26,
    "_isFastLaunch": false,
    "category": "Compute optimized",
    "gpuNum": 0,
    "hideHardwareSpecs": false,
    "memoryGiB": 96,
    "name": "ml.c5.12xlarge",
    "vcpuNum": 48
   },
   {
    "_defaultOrder": 27,
    "_isFastLaunch": false,
    "category": "Compute optimized",
    "gpuNum": 0,
    "hideHardwareSpecs": false,
    "memoryGiB": 144,
    "name": "ml.c5.18xlarge",
    "vcpuNum": 72
   },
   {
    "_defaultOrder": 28,
    "_isFastLaunch": false,
    "category": "Compute optimized",
    "gpuNum": 0,
    "hideHardwareSpecs": false,
    "memoryGiB": 192,
    "name": "ml.c5.24xlarge",
    "vcpuNum": 96
   },
   {
    "_defaultOrder": 29,
    "_isFastLaunch": true,
    "category": "Accelerated computing",
    "gpuNum": 1,
    "hideHardwareSpecs": false,
    "memoryGiB": 16,
    "name": "ml.g4dn.xlarge",
    "vcpuNum": 4
   },
   {
    "_defaultOrder": 30,
    "_isFastLaunch": false,
    "category": "Accelerated computing",
    "gpuNum": 1,
    "hideHardwareSpecs": false,
    "memoryGiB": 32,
    "name": "ml.g4dn.2xlarge",
    "vcpuNum": 8
   },
   {
    "_defaultOrder": 31,
    "_isFastLaunch": false,
    "category": "Accelerated computing",
    "gpuNum": 1,
    "hideHardwareSpecs": false,
    "memoryGiB": 64,
    "name": "ml.g4dn.4xlarge",
    "vcpuNum": 16
   },
   {
    "_defaultOrder": 32,
    "_isFastLaunch": false,
    "category": "Accelerated computing",
    "gpuNum": 1,
    "hideHardwareSpecs": false,
    "memoryGiB": 128,
    "name": "ml.g4dn.8xlarge",
    "vcpuNum": 32
   },
   {
    "_defaultOrder": 33,
    "_isFastLaunch": false,
    "category": "Accelerated computing",
    "gpuNum": 4,
    "hideHardwareSpecs": false,
    "memoryGiB": 192,
    "name": "ml.g4dn.12xlarge",
    "vcpuNum": 48
   },
   {
    "_defaultOrder": 34,
    "_isFastLaunch": false,
    "category": "Accelerated computing",
    "gpuNum": 1,
    "hideHardwareSpecs": false,
    "memoryGiB": 256,
    "name": "ml.g4dn.16xlarge",
    "vcpuNum": 64
   },
   {
    "_defaultOrder": 35,
    "_isFastLaunch": false,
    "category": "Accelerated computing",
    "gpuNum": 1,
    "hideHardwareSpecs": false,
    "memoryGiB": 61,
    "name": "ml.p3.2xlarge",
    "vcpuNum": 8
   },
   {
    "_defaultOrder": 36,
    "_isFastLaunch": false,
    "category": "Accelerated computing",
    "gpuNum": 4,
    "hideHardwareSpecs": false,
    "memoryGiB": 244,
    "name": "ml.p3.8xlarge",
    "vcpuNum": 32
   },
   {
    "_defaultOrder": 37,
    "_isFastLaunch": false,
    "category": "Accelerated computing",
    "gpuNum": 8,
    "hideHardwareSpecs": false,
    "memoryGiB": 488,
    "name": "ml.p3.16xlarge",
    "vcpuNum": 64
   },
   {
    "_defaultOrder": 38,
    "_isFastLaunch": false,
    "category": "Accelerated computing",
    "gpuNum": 8,
    "hideHardwareSpecs": false,
    "memoryGiB": 768,
    "name": "ml.p3dn.24xlarge",
    "vcpuNum": 96
   },
   {
    "_defaultOrder": 39,
    "_isFastLaunch": false,
    "category": "Memory Optimized",
    "gpuNum": 0,
    "hideHardwareSpecs": false,
    "memoryGiB": 16,
    "name": "ml.r5.large",
    "vcpuNum": 2
   },
   {
    "_defaultOrder": 40,
    "_isFastLaunch": false,
    "category": "Memory Optimized",
    "gpuNum": 0,
    "hideHardwareSpecs": false,
    "memoryGiB": 32,
    "name": "ml.r5.xlarge",
    "vcpuNum": 4
   },
   {
    "_defaultOrder": 41,
    "_isFastLaunch": false,
    "category": "Memory Optimized",
    "gpuNum": 0,
    "hideHardwareSpecs": false,
    "memoryGiB": 64,
    "name": "ml.r5.2xlarge",
    "vcpuNum": 8
   },
   {
    "_defaultOrder": 42,
    "_isFastLaunch": false,
    "category": "Memory Optimized",
    "gpuNum": 0,
    "hideHardwareSpecs": false,
    "memoryGiB": 128,
    "name": "ml.r5.4xlarge",
    "vcpuNum": 16
   },
   {
    "_defaultOrder": 43,
    "_isFastLaunch": false,
    "category": "Memory Optimized",
    "gpuNum": 0,
    "hideHardwareSpecs": false,
    "memoryGiB": 256,
    "name": "ml.r5.8xlarge",
    "vcpuNum": 32
   },
   {
    "_defaultOrder": 44,
    "_isFastLaunch": false,
    "category": "Memory Optimized",
    "gpuNum": 0,
    "hideHardwareSpecs": false,
    "memoryGiB": 384,
    "name": "ml.r5.12xlarge",
    "vcpuNum": 48
   },
   {
    "_defaultOrder": 45,
    "_isFastLaunch": false,
    "category": "Memory Optimized",
    "gpuNum": 0,
    "hideHardwareSpecs": false,
    "memoryGiB": 512,
    "name": "ml.r5.16xlarge",
    "vcpuNum": 64
   },
   {
    "_defaultOrder": 46,
    "_isFastLaunch": false,
    "category": "Memory Optimized",
    "gpuNum": 0,
    "hideHardwareSpecs": false,
    "memoryGiB": 768,
    "name": "ml.r5.24xlarge",
    "vcpuNum": 96
   },
   {
    "_defaultOrder": 47,
    "_isFastLaunch": false,
    "category": "Accelerated computing",
    "gpuNum": 1,
    "hideHardwareSpecs": false,
    "memoryGiB": 16,
    "name": "ml.g5.xlarge",
    "vcpuNum": 4
   },
   {
    "_defaultOrder": 48,
    "_isFastLaunch": false,
    "category": "Accelerated computing",
    "gpuNum": 1,
    "hideHardwareSpecs": false,
    "memoryGiB": 32,
    "name": "ml.g5.2xlarge",
    "vcpuNum": 8
   },
   {
    "_defaultOrder": 49,
    "_isFastLaunch": false,
    "category": "Accelerated computing",
    "gpuNum": 1,
    "hideHardwareSpecs": false,
    "memoryGiB": 64,
    "name": "ml.g5.4xlarge",
    "vcpuNum": 16
   },
   {
    "_defaultOrder": 50,
    "_isFastLaunch": false,
    "category": "Accelerated computing",
    "gpuNum": 1,
    "hideHardwareSpecs": false,
    "memoryGiB": 128,
    "name": "ml.g5.8xlarge",
    "vcpuNum": 32
   },
   {
    "_defaultOrder": 51,
    "_isFastLaunch": false,
    "category": "Accelerated computing",
    "gpuNum": 1,
    "hideHardwareSpecs": false,
    "memoryGiB": 256,
    "name": "ml.g5.16xlarge",
    "vcpuNum": 64
   },
   {
    "_defaultOrder": 52,
    "_isFastLaunch": false,
    "category": "Accelerated computing",
    "gpuNum": 4,
    "hideHardwareSpecs": false,
    "memoryGiB": 192,
    "name": "ml.g5.12xlarge",
    "vcpuNum": 48
   },
   {
    "_defaultOrder": 53,
    "_isFastLaunch": false,
    "category": "Accelerated computing",
    "gpuNum": 4,
    "hideHardwareSpecs": false,
    "memoryGiB": 384,
    "name": "ml.g5.24xlarge",
    "vcpuNum": 96
   },
   {
    "_defaultOrder": 54,
    "_isFastLaunch": false,
    "category": "Accelerated computing",
    "gpuNum": 8,
    "hideHardwareSpecs": false,
    "memoryGiB": 768,
    "name": "ml.g5.48xlarge",
    "vcpuNum": 192
   },
   {
    "_defaultOrder": 55,
    "_isFastLaunch": false,
    "category": "Accelerated computing",
    "gpuNum": 8,
    "hideHardwareSpecs": false,
    "memoryGiB": 1152,
    "name": "ml.p4d.24xlarge",
    "vcpuNum": 96
   },
   {
    "_defaultOrder": 56,
    "_isFastLaunch": false,
    "category": "Accelerated computing",
    "gpuNum": 8,
    "hideHardwareSpecs": false,
    "memoryGiB": 1152,
    "name": "ml.p4de.24xlarge",
    "vcpuNum": 96
   },
   {
    "_defaultOrder": 57,
    "_isFastLaunch": false,
    "category": "Accelerated computing",
    "gpuNum": 0,
    "hideHardwareSpecs": false,
    "memoryGiB": 32,
    "name": "ml.trn1.2xlarge",
    "vcpuNum": 8
   },
   {
    "_defaultOrder": 58,
    "_isFastLaunch": false,
    "category": "Accelerated computing",
    "gpuNum": 0,
    "hideHardwareSpecs": false,
    "memoryGiB": 512,
    "name": "ml.trn1.32xlarge",
    "vcpuNum": 128
   },
   {
    "_defaultOrder": 59,
    "_isFastLaunch": false,
    "category": "Accelerated computing",
    "gpuNum": 0,
    "hideHardwareSpecs": false,
    "memoryGiB": 512,
    "name": "ml.trn1n.32xlarge",
    "vcpuNum": 128
   }
  ],
  "instance_type": "ml.g4dn.2xlarge",
  "kernelspec": {
   "display_name": "Python 3 (Data Science 3.0)",
   "language": "python",
   "name": "python3__SAGEMAKER_INTERNAL__arn:aws:sagemaker:ap-southeast-2:452832661640:image/sagemaker-data-science-310-v1"
  },
  "language_info": {
   "codemirror_mode": {
    "name": "ipython",
    "version": 3
   },
   "file_extension": ".py",
   "mimetype": "text/x-python",
   "name": "python",
   "nbconvert_exporter": "python",
   "pygments_lexer": "ipython3",
   "version": "3.10.6"
  }
 },
 "nbformat": 4,
 "nbformat_minor": 4
}
