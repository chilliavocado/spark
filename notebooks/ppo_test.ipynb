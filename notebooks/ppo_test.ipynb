{
 "cells": [
  {
   "cell_type": "code",
   "execution_count": 1,
   "metadata": {},
   "outputs": [],
   "source": [
    "import gym\n",
    "from gym import spaces\n",
    "import numpy as np\n",
    "import pandas as pd\n"
   ]
  },
  {
   "cell_type": "code",
   "execution_count": 2,
   "metadata": {},
   "outputs": [],
   "source": [
    "\n",
    "class ProductRecommendationEnv(gym.Env):\n",
    "    def __init__(self, user_features, product_features):\n",
    "        super(ProductRecommendationEnv, self).__init__()\n",
    "\n",
    "        self.user_features = user_features  # User states\n",
    "        self.product_features = product_features  # Product states\n",
    "\n",
    "        # Define action space for recommending top 10 products\n",
    "        self.action_space = spaces.MultiDiscrete([len(product_features)] * 10)  # Top 10 recommendations\n",
    "        self.observation_space = spaces.Box(low=0, high=1, shape=(user_features.shape[1],), dtype=np.float32)\n",
    "\n",
    "        self.state = None\n",
    "\n",
    "    def reset(self):\n",
    "        # Randomly select a user state\n",
    "        self.state = self.user_features.sample(n=1).values.flatten()  # Shape should be (5,)\n",
    "        return self.state\n",
    "\n",
    "    def step(self, action):\n",
    "        # Calculate rewards based on action\n",
    "        selected_products = action\n",
    "        rewards = self.calculate_rewards(selected_products)\n",
    "        done = True  # End after one recommendation round\n",
    "        return self.state, rewards, done, {}\n",
    "\n",
    "    def calculate_rewards(self, selected_products):\n",
    "        # Implement a reward function based on user preferences\n",
    "        return np.random.rand()  # Placeholder reward\n",
    "\n",
    "# Example user and product data\n",
    "user_data = pd.DataFrame(np.random.rand(100, 5))  # 100 users, 5 features each\n",
    "product_data = pd.DataFrame({'id': range(10000), 'category': np.random.randint(0, 10, 10000), 'price': np.random.rand(10000)})\n",
    "\n",
    "env = ProductRecommendationEnv(user_data, product_data)"
   ]
  },
  {
   "cell_type": "code",
   "execution_count": 3,
   "metadata": {},
   "outputs": [
    {
     "name": "stdout",
     "output_type": "stream",
     "text": [
      "[0.44282004 0.40231971 0.70593549 0.89240215 0.15477688]\n"
     ]
    }
   ],
   "source": [
    "state = env.reset()\n",
    "print(state)"
   ]
  },
  {
   "cell_type": "code",
   "execution_count": 6,
   "metadata": {},
   "outputs": [
    {
     "data": {
      "text/plain": [
       "Box(0.0, 1.0, (5,), float32)"
      ]
     },
     "execution_count": 6,
     "metadata": {},
     "output_type": "execute_result"
    }
   ],
   "source": [
    "env.observation_space"
   ]
  },
  {
   "cell_type": "code",
   "execution_count": 7,
   "metadata": {},
   "outputs": [
    {
     "data": {
      "text/plain": [
       "MultiDiscrete([10000 10000 10000 10000 10000 10000 10000 10000 10000 10000])"
      ]
     },
     "execution_count": 7,
     "metadata": {},
     "output_type": "execute_result"
    }
   ],
   "source": [
    "env.action_space"
   ]
  },
  {
   "cell_type": "code",
   "execution_count": 5,
   "metadata": {},
   "outputs": [
    {
     "name": "stdout",
     "output_type": "stream",
     "text": [
      "Using cpu device\n",
      "Wrapping the env with a `Monitor` wrapper\n",
      "Wrapping the env in a DummyVecEnv.\n",
      "---------------------------------\n",
      "| rollout/           |          |\n",
      "|    ep_len_mean     | 1        |\n",
      "|    ep_rew_mean     | 0.513    |\n",
      "| time/              |          |\n",
      "|    fps             | 172      |\n",
      "|    iterations      | 1        |\n",
      "|    time_elapsed    | 11       |\n",
      "|    total_timesteps | 2048     |\n",
      "---------------------------------\n"
     ]
    },
    {
     "data": {
      "text/plain": [
       "<stable_baselines3.ppo.ppo.PPO at 0x7fbcf2287970>"
      ]
     },
     "execution_count": 9,
     "metadata": {},
     "output_type": "execute_result"
    }
   ],
   "source": [
    "from stable_baselines3 import PPO\n",
    "\n",
    "# Create and train the PPO agent\n",
    "model = PPO('MlpPolicy', env, verbose=1)\n",
    "model.learn(total_timesteps=10)  # Adjust based on your needs\n"
   ]
  },
  {
   "cell_type": "code",
   "execution_count": null,
   "metadata": {},
   "outputs": [
    {
     "name": "stdout",
     "output_type": "stream",
     "text": [
      "Recommended products: [5143 2656 8058 8197 5477 5651 1814 3042 9580 5617]\n",
      "Recommended products: [3958 2760 3248 7390 4950 8258 9961 9557 3500 4737]\n",
      "Recommended products: [2119 7877 8822 4921 3774 6374 2388 9029 6180 4565]\n",
      "Recommended products: [9465 6478 7364  457 4401 4003  839   25 2743  205]\n",
      "Recommended products: [3530 6474 9651 8949 6604 3473  786 1065 1680 3383]\n",
      "Recommended products: [4650 6539  308 9588 6445 2129 4320 5657 8752  841]\n",
      "Recommended products: [5510 4323  535  601 7399 8201 8968 5519 3537 2071]\n",
      "Recommended products: [3746 9868 1863  286  705 8547 1382 9893 3557  879]\n",
      "Recommended products: [6488 6594 7082 2776 6061 9462 2761 1939 9509  478]\n",
      "Recommended products: [8032 8421 8469 6839  729 3608 4049 2661 6853 3166]\n"
     ]
    }
   ],
   "source": [
    "obs = env.reset()\n",
    "for _ in range(10):  # Make 10 recommendations\n",
    "    action, _states = model.predict(obs)\n",
    "    obs, rewards, done, _ = env.step(action)\n",
    "    print(\"Recommended products:\", action)\n"
   ]
  }
 ],
 "metadata": {
  "kernelspec": {
   "display_name": "base",
   "language": "python",
   "name": "python3"
  },
  "language_info": {
   "codemirror_mode": {
    "name": "ipython",
    "version": 3
   },
   "file_extension": ".py",
   "mimetype": "text/x-python",
   "name": "python",
   "nbconvert_exporter": "python",
   "pygments_lexer": "ipython3",
   "version": "3.9.13"
  }
 },
 "nbformat": 4,
 "nbformat_minor": 2
}
