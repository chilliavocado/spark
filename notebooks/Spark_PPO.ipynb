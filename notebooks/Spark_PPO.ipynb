{
 "cells": [
  {
   "cell_type": "code",
   "execution_count": null,
   "id": "0e84fa87-c62c-4ba3-b919-108f544652f7",
   "metadata": {},
   "outputs": [],
   "source": []
  },
  {
   "cell_type": "markdown",
   "id": "59ca3620-74dd-42cb-9bba-4d7ea3d60be4",
   "metadata": {
    "jp-MarkdownHeadingCollapsed": true,
    "tags": []
   },
   "source": [
    "## Update and install packages"
   ]
  },
  {
   "cell_type": "code",
   "execution_count": 1,
   "id": "78a0c20b",
   "metadata": {
    "id": "78a0c20b"
   },
   "outputs": [
    {
     "name": "stdout",
     "output_type": "stream",
     "text": [
      "Requirement already satisfied: fastapi[dev,docs,standard] in /opt/conda/lib/python3.10/site-packages (from -r ../requirements.txt (line 1)) (0.115.4)\n",
      "Requirement already satisfied: Jinja2 in /opt/conda/lib/python3.10/site-packages (from -r ../requirements.txt (line 2)) (3.1.2)\n",
      "Requirement already satisfied: numpy in /opt/conda/lib/python3.10/site-packages (from -r ../requirements.txt (line 3)) (1.23.5)\n",
      "Requirement already satisfied: torch in /opt/conda/lib/python3.10/site-packages (from -r ../requirements.txt (line 4)) (2.0.0)\n",
      "Requirement already satisfied: gym in /opt/conda/lib/python3.10/site-packages (from -r ../requirements.txt (line 5)) (0.26.2)\n",
      "Requirement already satisfied: stable-baselines3[extra]>=2.0.0a4 in /opt/conda/lib/python3.10/site-packages (from -r ../requirements.txt (line 6)) (2.4.0a11)\n",
      "Requirement already satisfied: scikit-learn in /opt/conda/lib/python3.10/site-packages (from -r ../requirements.txt (line 7)) (1.2.2)\n",
      "\u001b[33mWARNING: fastapi 0.115.4 does not provide the extra 'dev'\u001b[0m\u001b[33m\n",
      "\u001b[0m\u001b[33mWARNING: fastapi 0.115.4 does not provide the extra 'docs'\u001b[0m\u001b[33m\n",
      "\u001b[0mRequirement already satisfied: starlette<0.42.0,>=0.40.0 in /opt/conda/lib/python3.10/site-packages (from fastapi[dev,docs,standard]->-r ../requirements.txt (line 1)) (0.41.2)\n",
      "Requirement already satisfied: pydantic!=1.8,!=1.8.1,!=2.0.0,!=2.0.1,!=2.1.0,<3.0.0,>=1.7.4 in /opt/conda/lib/python3.10/site-packages (from fastapi[dev,docs,standard]->-r ../requirements.txt (line 1)) (1.10.7)\n",
      "Requirement already satisfied: typing-extensions>=4.8.0 in /opt/conda/lib/python3.10/site-packages (from fastapi[dev,docs,standard]->-r ../requirements.txt (line 1)) (4.12.2)\n",
      "Requirement already satisfied: fastapi-cli[standard]>=0.0.5 in /opt/conda/lib/python3.10/site-packages (from fastapi[dev,docs,standard]->-r ../requirements.txt (line 1)) (0.0.5)\n",
      "Requirement already satisfied: httpx>=0.23.0 in /opt/conda/lib/python3.10/site-packages (from fastapi[dev,docs,standard]->-r ../requirements.txt (line 1)) (0.27.2)\n",
      "Requirement already satisfied: python-multipart>=0.0.7 in /opt/conda/lib/python3.10/site-packages (from fastapi[dev,docs,standard]->-r ../requirements.txt (line 1)) (0.0.17)\n",
      "Requirement already satisfied: email-validator>=2.0.0 in /opt/conda/lib/python3.10/site-packages (from fastapi[dev,docs,standard]->-r ../requirements.txt (line 1)) (2.2.0)\n",
      "Requirement already satisfied: uvicorn[standard]>=0.12.0 in /opt/conda/lib/python3.10/site-packages (from fastapi[dev,docs,standard]->-r ../requirements.txt (line 1)) (0.32.0)\n",
      "Requirement already satisfied: MarkupSafe>=2.0 in /opt/conda/lib/python3.10/site-packages (from Jinja2->-r ../requirements.txt (line 2)) (2.1.2)\n",
      "Requirement already satisfied: filelock in /opt/conda/lib/python3.10/site-packages (from torch->-r ../requirements.txt (line 4)) (3.12.0)\n",
      "Requirement already satisfied: sympy in /opt/conda/lib/python3.10/site-packages (from torch->-r ../requirements.txt (line 4)) (1.11.1)\n",
      "Requirement already satisfied: networkx in /opt/conda/lib/python3.10/site-packages (from torch->-r ../requirements.txt (line 4)) (3.1)\n",
      "Requirement already satisfied: cloudpickle>=1.2.0 in /opt/conda/lib/python3.10/site-packages (from gym->-r ../requirements.txt (line 5)) (2.2.1)\n",
      "Requirement already satisfied: gym-notices>=0.0.4 in /opt/conda/lib/python3.10/site-packages (from gym->-r ../requirements.txt (line 5)) (0.0.8)\n",
      "Requirement already satisfied: gymnasium<1.1.0,>=0.29.1 in /opt/conda/lib/python3.10/site-packages (from stable-baselines3[extra]>=2.0.0a4->-r ../requirements.txt (line 6)) (1.0.0)\n",
      "Requirement already satisfied: pandas in /opt/conda/lib/python3.10/site-packages (from stable-baselines3[extra]>=2.0.0a4->-r ../requirements.txt (line 6)) (2.0.1)\n",
      "Requirement already satisfied: matplotlib in /opt/conda/lib/python3.10/site-packages (from stable-baselines3[extra]>=2.0.0a4->-r ../requirements.txt (line 6)) (3.7.1)\n",
      "Requirement already satisfied: opencv-python in /opt/conda/lib/python3.10/site-packages (from stable-baselines3[extra]>=2.0.0a4->-r ../requirements.txt (line 6)) (4.7.0)\n",
      "Requirement already satisfied: pygame in /opt/conda/lib/python3.10/site-packages (from stable-baselines3[extra]>=2.0.0a4->-r ../requirements.txt (line 6)) (2.6.1)\n",
      "Requirement already satisfied: tensorboard>=2.9.1 in /opt/conda/lib/python3.10/site-packages (from stable-baselines3[extra]>=2.0.0a4->-r ../requirements.txt (line 6)) (2.18.0)\n",
      "Requirement already satisfied: psutil in /opt/conda/lib/python3.10/site-packages (from stable-baselines3[extra]>=2.0.0a4->-r ../requirements.txt (line 6)) (5.9.5)\n",
      "Requirement already satisfied: tqdm in /opt/conda/lib/python3.10/site-packages (from stable-baselines3[extra]>=2.0.0a4->-r ../requirements.txt (line 6)) (4.65.0)\n",
      "Requirement already satisfied: rich in /opt/conda/lib/python3.10/site-packages (from stable-baselines3[extra]>=2.0.0a4->-r ../requirements.txt (line 6)) (12.6.0)\n",
      "Requirement already satisfied: ale-py>=0.9.0 in /opt/conda/lib/python3.10/site-packages (from stable-baselines3[extra]>=2.0.0a4->-r ../requirements.txt (line 6)) (0.10.1)\n",
      "Requirement already satisfied: pillow in /opt/conda/lib/python3.10/site-packages (from stable-baselines3[extra]>=2.0.0a4->-r ../requirements.txt (line 6)) (9.4.0)\n",
      "Requirement already satisfied: scipy>=1.3.2 in /opt/conda/lib/python3.10/site-packages (from scikit-learn->-r ../requirements.txt (line 7)) (1.10.1)\n",
      "Requirement already satisfied: joblib>=1.1.1 in /opt/conda/lib/python3.10/site-packages (from scikit-learn->-r ../requirements.txt (line 7)) (1.2.0)\n",
      "Requirement already satisfied: threadpoolctl>=2.0.0 in /opt/conda/lib/python3.10/site-packages (from scikit-learn->-r ../requirements.txt (line 7)) (3.1.0)\n",
      "Requirement already satisfied: dnspython>=2.0.0 in /opt/conda/lib/python3.10/site-packages (from email-validator>=2.0.0->fastapi[dev,docs,standard]->-r ../requirements.txt (line 1)) (2.7.0)\n",
      "Requirement already satisfied: idna>=2.0.0 in /opt/conda/lib/python3.10/site-packages (from email-validator>=2.0.0->fastapi[dev,docs,standard]->-r ../requirements.txt (line 1)) (3.4)\n",
      "Requirement already satisfied: typer>=0.12.3 in /opt/conda/lib/python3.10/site-packages (from fastapi-cli[standard]>=0.0.5->fastapi[dev,docs,standard]->-r ../requirements.txt (line 1)) (0.12.5)\n",
      "Requirement already satisfied: farama-notifications>=0.0.1 in /opt/conda/lib/python3.10/site-packages (from gymnasium<1.1.0,>=0.29.1->stable-baselines3[extra]>=2.0.0a4->-r ../requirements.txt (line 6)) (0.0.4)\n",
      "Requirement already satisfied: anyio in /opt/conda/lib/python3.10/site-packages (from httpx>=0.23.0->fastapi[dev,docs,standard]->-r ../requirements.txt (line 1)) (4.6.2.post1)\n",
      "Requirement already satisfied: certifi in /opt/conda/lib/python3.10/site-packages (from httpx>=0.23.0->fastapi[dev,docs,standard]->-r ../requirements.txt (line 1)) (2023.5.7)\n",
      "Requirement already satisfied: httpcore==1.* in /opt/conda/lib/python3.10/site-packages (from httpx>=0.23.0->fastapi[dev,docs,standard]->-r ../requirements.txt (line 1)) (1.0.6)\n",
      "Requirement already satisfied: sniffio in /opt/conda/lib/python3.10/site-packages (from httpx>=0.23.0->fastapi[dev,docs,standard]->-r ../requirements.txt (line 1)) (1.3.1)\n",
      "Requirement already satisfied: h11<0.15,>=0.13 in /opt/conda/lib/python3.10/site-packages (from httpcore==1.*->httpx>=0.23.0->fastapi[dev,docs,standard]->-r ../requirements.txt (line 1)) (0.14.0)\n",
      "Requirement already satisfied: absl-py>=0.4 in /opt/conda/lib/python3.10/site-packages (from tensorboard>=2.9.1->stable-baselines3[extra]>=2.0.0a4->-r ../requirements.txt (line 6)) (2.1.0)\n",
      "Requirement already satisfied: grpcio>=1.48.2 in /opt/conda/lib/python3.10/site-packages (from tensorboard>=2.9.1->stable-baselines3[extra]>=2.0.0a4->-r ../requirements.txt (line 6)) (1.67.1)\n",
      "Requirement already satisfied: markdown>=2.6.8 in /opt/conda/lib/python3.10/site-packages (from tensorboard>=2.9.1->stable-baselines3[extra]>=2.0.0a4->-r ../requirements.txt (line 6)) (3.7)\n",
      "Requirement already satisfied: packaging in /opt/conda/lib/python3.10/site-packages (from tensorboard>=2.9.1->stable-baselines3[extra]>=2.0.0a4->-r ../requirements.txt (line 6)) (23.1)\n",
      "Requirement already satisfied: protobuf!=4.24.0,>=3.19.6 in /opt/conda/lib/python3.10/site-packages (from tensorboard>=2.9.1->stable-baselines3[extra]>=2.0.0a4->-r ../requirements.txt (line 6)) (3.20.3)\n",
      "Requirement already satisfied: setuptools>=41.0.0 in /opt/conda/lib/python3.10/site-packages (from tensorboard>=2.9.1->stable-baselines3[extra]>=2.0.0a4->-r ../requirements.txt (line 6)) (65.6.3)\n",
      "Requirement already satisfied: six>1.9 in /opt/conda/lib/python3.10/site-packages (from tensorboard>=2.9.1->stable-baselines3[extra]>=2.0.0a4->-r ../requirements.txt (line 6)) (1.16.0)\n",
      "Requirement already satisfied: tensorboard-data-server<0.8.0,>=0.7.0 in /opt/conda/lib/python3.10/site-packages (from tensorboard>=2.9.1->stable-baselines3[extra]>=2.0.0a4->-r ../requirements.txt (line 6)) (0.7.2)\n",
      "Requirement already satisfied: werkzeug>=1.0.1 in /opt/conda/lib/python3.10/site-packages (from tensorboard>=2.9.1->stable-baselines3[extra]>=2.0.0a4->-r ../requirements.txt (line 6)) (2.3.4)\n",
      "Requirement already satisfied: click>=7.0 in /opt/conda/lib/python3.10/site-packages (from uvicorn[standard]>=0.12.0->fastapi[dev,docs,standard]->-r ../requirements.txt (line 1)) (8.1.3)\n",
      "Requirement already satisfied: httptools>=0.5.0 in /opt/conda/lib/python3.10/site-packages (from uvicorn[standard]>=0.12.0->fastapi[dev,docs,standard]->-r ../requirements.txt (line 1)) (0.6.4)\n",
      "Requirement already satisfied: python-dotenv>=0.13 in /opt/conda/lib/python3.10/site-packages (from uvicorn[standard]>=0.12.0->fastapi[dev,docs,standard]->-r ../requirements.txt (line 1)) (1.0.1)\n",
      "Requirement already satisfied: pyyaml>=5.1 in /opt/conda/lib/python3.10/site-packages (from uvicorn[standard]>=0.12.0->fastapi[dev,docs,standard]->-r ../requirements.txt (line 1)) (5.4.1)\n",
      "Requirement already satisfied: uvloop!=0.15.0,!=0.15.1,>=0.14.0 in /opt/conda/lib/python3.10/site-packages (from uvicorn[standard]>=0.12.0->fastapi[dev,docs,standard]->-r ../requirements.txt (line 1)) (0.21.0)\n",
      "Requirement already satisfied: watchfiles>=0.13 in /opt/conda/lib/python3.10/site-packages (from uvicorn[standard]>=0.12.0->fastapi[dev,docs,standard]->-r ../requirements.txt (line 1)) (0.24.0)\n",
      "Requirement already satisfied: websockets>=10.4 in /opt/conda/lib/python3.10/site-packages (from uvicorn[standard]>=0.12.0->fastapi[dev,docs,standard]->-r ../requirements.txt (line 1)) (13.1)\n",
      "Requirement already satisfied: contourpy>=1.0.1 in /opt/conda/lib/python3.10/site-packages (from matplotlib->stable-baselines3[extra]>=2.0.0a4->-r ../requirements.txt (line 6)) (1.0.7)\n",
      "Requirement already satisfied: cycler>=0.10 in /opt/conda/lib/python3.10/site-packages (from matplotlib->stable-baselines3[extra]>=2.0.0a4->-r ../requirements.txt (line 6)) (0.11.0)\n",
      "Requirement already satisfied: fonttools>=4.22.0 in /opt/conda/lib/python3.10/site-packages (from matplotlib->stable-baselines3[extra]>=2.0.0a4->-r ../requirements.txt (line 6)) (4.39.4)\n",
      "Requirement already satisfied: kiwisolver>=1.0.1 in /opt/conda/lib/python3.10/site-packages (from matplotlib->stable-baselines3[extra]>=2.0.0a4->-r ../requirements.txt (line 6)) (1.4.4)\n",
      "Requirement already satisfied: pyparsing>=2.3.1 in /opt/conda/lib/python3.10/site-packages (from matplotlib->stable-baselines3[extra]>=2.0.0a4->-r ../requirements.txt (line 6)) (3.0.9)\n",
      "Requirement already satisfied: python-dateutil>=2.7 in /opt/conda/lib/python3.10/site-packages (from matplotlib->stable-baselines3[extra]>=2.0.0a4->-r ../requirements.txt (line 6)) (2.8.2)\n",
      "Requirement already satisfied: pytz>=2020.1 in /opt/conda/lib/python3.10/site-packages (from pandas->stable-baselines3[extra]>=2.0.0a4->-r ../requirements.txt (line 6)) (2023.3)\n",
      "Requirement already satisfied: tzdata>=2022.1 in /opt/conda/lib/python3.10/site-packages (from pandas->stable-baselines3[extra]>=2.0.0a4->-r ../requirements.txt (line 6)) (2023.3)\n",
      "Requirement already satisfied: commonmark<0.10.0,>=0.9.0 in /opt/conda/lib/python3.10/site-packages (from rich->stable-baselines3[extra]>=2.0.0a4->-r ../requirements.txt (line 6)) (0.9.1)\n",
      "Requirement already satisfied: pygments<3.0.0,>=2.6.0 in /opt/conda/lib/python3.10/site-packages (from rich->stable-baselines3[extra]>=2.0.0a4->-r ../requirements.txt (line 6)) (2.15.1)\n",
      "Requirement already satisfied: mpmath>=0.19 in /opt/conda/lib/python3.10/site-packages (from sympy->torch->-r ../requirements.txt (line 4)) (1.3.0)\n",
      "Requirement already satisfied: exceptiongroup>=1.0.2 in /opt/conda/lib/python3.10/site-packages (from anyio->httpx>=0.23.0->fastapi[dev,docs,standard]->-r ../requirements.txt (line 1)) (1.2.2)\n",
      "Requirement already satisfied: shellingham>=1.3.0 in /opt/conda/lib/python3.10/site-packages (from typer>=0.12.3->fastapi-cli[standard]>=0.0.5->fastapi[dev,docs,standard]->-r ../requirements.txt (line 1)) (1.5.1)\n",
      "\u001b[33mWARNING: Running pip as the 'root' user can result in broken permissions and conflicting behaviour with the system package manager. It is recommended to use a virtual environment instead: https://pip.pypa.io/warnings/venv\u001b[0m\u001b[33m\n",
      "\u001b[0m\n",
      "\u001b[1m[\u001b[0m\u001b[34;49mnotice\u001b[0m\u001b[1;39;49m]\u001b[0m\u001b[39;49m A new release of pip is available: \u001b[0m\u001b[31;49m23.1.2\u001b[0m\u001b[39;49m -> \u001b[0m\u001b[32;49m24.3.1\u001b[0m\n",
      "\u001b[1m[\u001b[0m\u001b[34;49mnotice\u001b[0m\u001b[1;39;49m]\u001b[0m\u001b[39;49m To update, run: \u001b[0m\u001b[32;49mpip install --upgrade pip\u001b[0m\n",
      "Requirement already satisfied: ipywidgets in /opt/conda/lib/python3.10/site-packages (8.1.5)\n",
      "Requirement already satisfied: comm>=0.1.3 in /opt/conda/lib/python3.10/site-packages (from ipywidgets) (0.1.3)\n",
      "Requirement already satisfied: ipython>=6.1.0 in /opt/conda/lib/python3.10/site-packages (from ipywidgets) (8.13.2)\n",
      "Requirement already satisfied: traitlets>=4.3.1 in /opt/conda/lib/python3.10/site-packages (from ipywidgets) (5.9.0)\n",
      "Requirement already satisfied: widgetsnbextension~=4.0.12 in /opt/conda/lib/python3.10/site-packages (from ipywidgets) (4.0.13)\n",
      "Requirement already satisfied: jupyterlab-widgets~=3.0.12 in /opt/conda/lib/python3.10/site-packages (from ipywidgets) (3.0.13)\n",
      "Requirement already satisfied: backcall in /opt/conda/lib/python3.10/site-packages (from ipython>=6.1.0->ipywidgets) (0.2.0)\n",
      "Requirement already satisfied: decorator in /opt/conda/lib/python3.10/site-packages (from ipython>=6.1.0->ipywidgets) (4.4.2)\n",
      "Requirement already satisfied: jedi>=0.16 in /opt/conda/lib/python3.10/site-packages (from ipython>=6.1.0->ipywidgets) (0.18.2)\n",
      "Requirement already satisfied: matplotlib-inline in /opt/conda/lib/python3.10/site-packages (from ipython>=6.1.0->ipywidgets) (0.1.6)\n",
      "Requirement already satisfied: pickleshare in /opt/conda/lib/python3.10/site-packages (from ipython>=6.1.0->ipywidgets) (0.7.5)\n",
      "Requirement already satisfied: prompt-toolkit!=3.0.37,<3.1.0,>=3.0.30 in /opt/conda/lib/python3.10/site-packages (from ipython>=6.1.0->ipywidgets) (3.0.38)\n",
      "Requirement already satisfied: pygments>=2.4.0 in /opt/conda/lib/python3.10/site-packages (from ipython>=6.1.0->ipywidgets) (2.15.1)\n",
      "Requirement already satisfied: stack-data in /opt/conda/lib/python3.10/site-packages (from ipython>=6.1.0->ipywidgets) (0.6.2)\n",
      "Requirement already satisfied: pexpect>4.3 in /opt/conda/lib/python3.10/site-packages (from ipython>=6.1.0->ipywidgets) (4.8.0)\n",
      "Requirement already satisfied: parso<0.9.0,>=0.8.0 in /opt/conda/lib/python3.10/site-packages (from jedi>=0.16->ipython>=6.1.0->ipywidgets) (0.8.3)\n",
      "Requirement already satisfied: ptyprocess>=0.5 in /opt/conda/lib/python3.10/site-packages (from pexpect>4.3->ipython>=6.1.0->ipywidgets) (0.7.0)\n",
      "Requirement already satisfied: wcwidth in /opt/conda/lib/python3.10/site-packages (from prompt-toolkit!=3.0.37,<3.1.0,>=3.0.30->ipython>=6.1.0->ipywidgets) (0.2.6)\n",
      "Requirement already satisfied: executing>=1.2.0 in /opt/conda/lib/python3.10/site-packages (from stack-data->ipython>=6.1.0->ipywidgets) (1.2.0)\n",
      "Requirement already satisfied: asttokens>=2.1.0 in /opt/conda/lib/python3.10/site-packages (from stack-data->ipython>=6.1.0->ipywidgets) (2.2.1)\n",
      "Requirement already satisfied: pure-eval in /opt/conda/lib/python3.10/site-packages (from stack-data->ipython>=6.1.0->ipywidgets) (0.2.2)\n",
      "Requirement already satisfied: six in /opt/conda/lib/python3.10/site-packages (from asttokens>=2.1.0->stack-data->ipython>=6.1.0->ipywidgets) (1.16.0)\n",
      "\u001b[33mWARNING: Running pip as the 'root' user can result in broken permissions and conflicting behaviour with the system package manager. It is recommended to use a virtual environment instead: https://pip.pypa.io/warnings/venv\u001b[0m\u001b[33m\n",
      "\u001b[0m\n",
      "\u001b[1m[\u001b[0m\u001b[34;49mnotice\u001b[0m\u001b[1;39;49m]\u001b[0m\u001b[39;49m A new release of pip is available: \u001b[0m\u001b[31;49m23.1.2\u001b[0m\u001b[39;49m -> \u001b[0m\u001b[32;49m24.3.1\u001b[0m\n",
      "\u001b[1m[\u001b[0m\u001b[34;49mnotice\u001b[0m\u001b[1;39;49m]\u001b[0m\u001b[39;49m To update, run: \u001b[0m\u001b[32;49mpip install --upgrade pip\u001b[0m\n"
     ]
    }
   ],
   "source": [
    "# Update and install display packages and stable baseline 3\n",
    "!pip install -r ../requirements.txt\n",
    "!pip install ipywidgets\n"
   ]
  },
  {
   "cell_type": "markdown",
   "id": "b0366550",
   "metadata": {
    "id": "b0366550",
    "tags": []
   },
   "source": [
    "## Import Libraries"
   ]
  },
  {
   "cell_type": "code",
   "execution_count": 2,
   "id": "6e3dc858",
   "metadata": {
    "id": "6e3dc858"
   },
   "outputs": [],
   "source": [
    "# Import rquired libraries and modules\n",
    "import gymnasium as gym\n",
    "from gymnasium import spaces\n",
    "from gymnasium import Space\n",
    "import stable_baselines3\n",
    "from stable_baselines3 import PPO\n",
    "from stable_baselines3.common.callbacks import BaseCallback\n",
    "from stable_baselines3.common.torch_layers import BaseFeaturesExtractor\n",
    "import torch.nn as nn\n",
    "import matplotlib.pyplot as plt\n",
    "import numpy as np\n",
    "import torch\n",
    "from pathlib import Path\n",
    "from typing import List\n",
    "import random\n",
    "from datetime import datetime\n",
    "from sklearn.preprocessing import MinMaxScaler\n",
    "\n",
    "import sys\n",
    "import os\n",
    "\n",
    "# Add the /app/src directory to the Python path\n",
    "sys.path.append(os.path.abspath('../app/src'))\n",
    "\n",
    "\n",
    "# Now try importing again\n",
    "from spark.data import loader\n",
    "from spark.data.models import Customer, Product, Category, Interaction, InteractionType\n",
    "from spark import utils\n"
   ]
  },
  {
   "cell_type": "code",
   "execution_count": 3,
   "id": "1c0e04dc-569b-45ec-b46b-84c919cb8704",
   "metadata": {
    "tags": []
   },
   "outputs": [
    {
     "name": "stdout",
     "output_type": "stream",
     "text": [
      "gym.__version__='1.0.0'\n",
      "stable_baselines3.__version__='2.4.0a11'\n"
     ]
    }
   ],
   "source": [
    "# Check gym and stable baseline 3 versions\n",
    "print(f\"{gym.__version__=}\")\n",
    "print(f\"{stable_baselines3.__version__=}\")\n"
   ]
  },
  {
   "cell_type": "markdown",
   "id": "c6f46ba9-9f99-4fc0-b5b3-a444e069abfd",
   "metadata": {},
   "source": [
    "## Settings"
   ]
  },
  {
   "cell_type": "code",
   "execution_count": 4,
   "id": "cdcd31dc-2d2a-4301-a54b-ec99dc3b6c0c",
   "metadata": {
    "tags": []
   },
   "outputs": [
    {
     "name": "stdout",
     "output_type": "stream",
     "text": [
      "./output/spark/logs\n",
      "./output/spark/models\n",
      "./output/spark/videos\n"
     ]
    }
   ],
   "source": [
    "# name of the environment to run\n",
    "env_name = 'Spark'\n",
    "env_prefix = 'spark'\n",
    "\n",
    "# output directoies\n",
    "base_dir = '.'\n",
    "output_dir = os.path.join(base_dir, 'output')\n",
    "env_dir =  os.path.join(output_dir, env_prefix)\n",
    "logs_dir = os.path.join(env_dir, 'logs')\n",
    "models_dir = os.path.join(env_dir, 'models')\n",
    "videos_dir = os.path.join(env_dir, 'videos')\n",
    "\n",
    "os.makedirs(logs_dir, exist_ok=True)\n",
    "os.makedirs(models_dir, exist_ok=True)\n",
    "os.makedirs(videos_dir, exist_ok=True)\n",
    "\n",
    "# tensorboard name for algorithm logs\n",
    "tb_log_name = 'PPO'\n",
    "model_prefix = 'ppo'\n",
    "model_name_final = f\"{model_prefix}_model_final\"\n",
    "\n",
    "print(logs_dir)\n",
    "print(models_dir)\n",
    "print(videos_dir)"
   ]
  },
  {
   "cell_type": "markdown",
   "id": "ff59430f",
   "metadata": {
    "id": "ff59430f",
    "tags": []
   },
   "source": [
    "## Callbacks and Directory Setup"
   ]
  },
  {
   "cell_type": "code",
   "execution_count": 5,
   "id": "80720234",
   "metadata": {
    "id": "80720234"
   },
   "outputs": [],
   "source": [
    "# callback for saving model at regular intervals\n",
    "class SaveOnIntervalCallback(BaseCallback):\n",
    "    def __init__(self, save_interval: int, save_path: str, verbose=1):\n",
    "        super().__init__(verbose)\n",
    "        self.save_interval = save_interval\n",
    "        self.save_path = save_path\n",
    "\n",
    "    def _on_step(self) -> bool:\n",
    "        # Save the model every 'save_interval' steps\n",
    "        if self.num_timesteps % self.save_interval == 0:\n",
    "            save_file = os.path.join(self.save_path, f'{model_prefix}_model_{self.num_timesteps}')\n",
    "            self.model.save(save_file)\n",
    "            if self.verbose > 0:\n",
    "                print(f'Saving model to {save_file}.zip')\n",
    "        return True"
   ]
  },
  {
   "cell_type": "markdown",
   "id": "e82ab2e6",
   "metadata": {
    "id": "e82ab2e6",
    "tags": []
   },
   "source": [
    "## Custom Feature Extractor"
   ]
  },
  {
   "cell_type": "code",
   "execution_count": 6,
   "id": "28fa8f89",
   "metadata": {
    "id": "28fa8f89"
   },
   "outputs": [],
   "source": [
    "# Feature extraction from frames as observations / states\n",
    "class CustomANN(BaseFeaturesExtractor):\n",
    "    def __init__(self, observation_space, features_dim=128):\n",
    "        super(CustomANN, self).__init__(observation_space, features_dim)\n",
    "        \n",
    "        # Define your neural network layers\n",
    "        self.net = nn.Sequential(\n",
    "            nn.Linear(observation_space.shape[0], 256),\n",
    "            nn.ReLU(),\n",
    "            nn.Linear(256, 128),\n",
    "            nn.ReLU(),\n",
    "            nn.Linear(128, features_dim)  # Output dimension should match features_dim\n",
    "        )\n",
    "    \n",
    "    def forward(self, observations):\n",
    "        return self.net(observations)\n",
    "    "
   ]
  },
  {
   "cell_type": "markdown",
   "id": "TXhEmj6-kgCI",
   "metadata": {
    "id": "TXhEmj6-kgCI"
   },
   "source": [
    "## Custom environment"
   ]
  },
  {
   "cell_type": "code",
   "execution_count": 32,
   "id": "5e2b6749-3413-4380-ad0d-89984d7572a9",
   "metadata": {
    "tags": []
   },
   "outputs": [],
   "source": [
    "\n",
    "\"\"\"\n",
    "Custom gym environment for product recommendations where states represent customer interactions\n",
    "actions are products;\n",
    "\n",
    "Each customer interaction is a state. In the step function, transition of states will be the same \n",
    "customer with the new interaction for a product. The transition ends when the customer made a purchase or session ends.\n",
    "\n",
    "The aim is to maximise rewards that can lead to a purchase.\n",
    "\n",
    "It is better to have a customer interaction to represent a state rather than a time series of steps leading to a purchase. \n",
    "The latter method may have an incomplete where customer exits the application. Also, even if the customer did not purchase,\n",
    "this information is still valuable for recommendations. Hence every state is a customer interaction.\n",
    "\n",
    "An addition meta data for each customer will be stored to understand the context of the user. For example, if a product is \n",
    "purchase many times, this may factor into preference of the states.\n",
    "---\n",
    "Personalization: By incorporating the user ID, the model can tailor recommendations specifically to individual users, allowing \n",
    "it to learn unique user preferences and behaviors over time.\n",
    "\n",
    "VS\n",
    "\n",
    "Overfitting: If the model learns too much from the user ID directly, it might overfit to individual user patterns, potentially \n",
    "missing out on broader trends that could be useful for all users.\n",
    "\n",
    "SOLUTION\n",
    "Use Embeddings: Instead of directly using user IDs, consider using an embedding layer that transforms the user ID into a dense vector representation. This approach reduces dimensionality while capturing user-specific features.\n",
    "\n",
    "Combine Features: Use user ID embeddings in conjunction with other features like user demographics, interaction history, and product attributes. This can create a more holistic view of user preferences.\n",
    "\n",
    "Regularization: Implement techniques like dropout or weight regularization to mitigate overfitting when using user IDs or their embeddings.\n",
    "\n",
    "Batch Normalization: Use batch normalization to stabilize learning, especially if the user ID leads to a wide range of outputs.\n",
    "----\n",
    "\"\"\"\n",
    "class RecommendationEnv(gym.Env):\n",
    "    def __init__(self, users:List[Customer], products:List[Product], top_k:int):\n",
    "        super().__init__()\n",
    "        \n",
    "        self.users = users                  # list of users as states\n",
    "        self.products = products            # products as actions, potential recommendations\n",
    "        self.top_k = top_k                  # number of recommendations\n",
    "        self.user_idx = 0                   # index of users list, not user_id\n",
    "        self.current_step = 0               # step is also the interactions list index\n",
    "        self.categories = loader.load_categories()\n",
    "        \n",
    "        self.action_space = spaces.MultiDiscrete([len(products)] * 10) \n",
    "        \n",
    "        # number of customers as states\n",
    "        # states are derived from customer profiles and interactioms\n",
    "        # Users list will keep track of unique users\n",
    "        # States include subset of features including product, interaction, ratings, and time in one-hot-encoding format\n",
    "        # States exclude user_ids for policy network generalisation. But internal users list will be used as reference        \n",
    "        self.observation_space = spaces.Dict({\n",
    "            'pref_prod': spaces.Box(low=0, high=1, shape=(len(self.products),), dtype=np.float32),\n",
    "            'pref_cat': spaces.Box(low=0, high=1, shape=(len(self.categories),), dtype=np.float32),\n",
    "            'buys': spaces.Box(low=0, high=1, shape=(len(self.products),), dtype=np.uint8),\n",
    "            'views': spaces.Box(low=0, high=1, shape=(len(self.products),), dtype=np.uint8),\n",
    "            'likes': spaces.Box(low=0, high=1, shape=(len(self.products),), dtype=np.uint8),\n",
    "            'ratings': spaces.Box(low=0, high=1, shape=(len(self.products),), dtype=np.uint8),\n",
    "            'product': spaces.Box(low=0, high=1, shape=(len(self.products),), dtype=np.uint8),\n",
    "            'interaction': spaces.Box(low=0, high=1, shape=(len(list(InteractionType)),), dtype=np.uint8),\n",
    "            'rating': spaces.Discrete(6)\n",
    "            }) \n",
    "            ## add more features like time, ignored recommendtions, engagement etc\n",
    "        \n",
    "    def reset(self, seed=None, options=None):\n",
    "        # Call the parent class's reset method to handle seeding\n",
    "        super().reset(seed=seed)\n",
    "        \n",
    "        self.user_idx = np.random.randint(len(self.users)) # may run throught users one by one\n",
    "        user = self.users[self.user_idx]\n",
    "        self.current_step = 0\n",
    "        return self._get_observation(user), {}# get current user features as states\n",
    "\n",
    "    def step(self, rec_products):\n",
    "        \"\"\" randomly interacting with product to mimick real user unpredictable behavious \"\"\"\n",
    "        self.current_step += 1\n",
    "        user = self.users[self.user_idx]\n",
    "        \n",
    "        reward = 0\n",
    "        done = False\n",
    "        \n",
    "        # simulate selected recommended product and interaction\n",
    "        selected_pid, interaction_type = self._simulate_interaction(rec_products) # generate random interaction\n",
    "        # selected_pid = random.choice(rec_products)\n",
    "        # interaction_type = random.choice(list(InteractionType))\n",
    "        \n",
    "        random_rating = 0\n",
    "        \n",
    "        if interaction_type == InteractionType.NONE:\n",
    "            reward = -1 # no interaction, customers not interested in recommendations\n",
    "        elif interaction_type ==  InteractionType.VIEW:\n",
    "            reward = 3\n",
    "        elif interaction_type ==  InteractionType.LIKE:\n",
    "            reward = 10\n",
    "        elif interaction_type ==  InteractionType.BUY:\n",
    "            reward = 50\n",
    "        elif interaction_type ==  InteractionType.RATE:\n",
    "            # generate rating, reward 1-2 is negative 3 neutral and 5 positive\n",
    "            random_rating = random.randint(0, 5)\n",
    "            reward = random_rating -1        \n",
    "        elif interaction_type ==  InteractionType.SESSION_START:\n",
    "            reward = 0\n",
    "        elif interaction_type ==  InteractionType.SESSION_CLOSE:\n",
    "            done = True\n",
    "            reward = 0 # TODO: check if engament is too short\n",
    "        else:\n",
    "            reward = 0\n",
    "        \n",
    "        interaction_time = datetime.now()\n",
    "        \n",
    "        interaction_info = {\n",
    "                'interaction': {\n",
    "                    'idx': -1,\n",
    "                    'timestamp': interaction_time.strftime(\"%Y-%m-%d %H:%M:%S\"),\n",
    "                    'user_id': user.idx,\n",
    "                    'product_id': selected_pid,\n",
    "                    'interaction': interaction_type.value,\n",
    "                    'rating': random_rating\n",
    "                }\n",
    "            }\n",
    "        \n",
    "        # generate random interaction\n",
    "        new_interaction = Interaction(self.current_step, interaction_time, user.idx, selected_pid, interaction_type, random_rating)\n",
    "        # reward = self._calculate_reward(user, product)\n",
    "        \n",
    "        return self._update_observation(user, new_interaction), reward, done, False, interaction_info\n",
    "\n",
    "    def _update_observation(self, user:Customer, interaction:Interaction):   \n",
    "        # update user data     \n",
    "        # user = self.users[self.user_idx]   \n",
    "        pid = interaction.product_idx    \n",
    "         \n",
    "        if interaction == InteractionType.VIEW:\n",
    "            user.views[pid] += 1\n",
    "        elif interaction == InteractionType.LIKE:\n",
    "            user.likes[pid] += 1\n",
    "        elif interaction == InteractionType.BUY:\n",
    "            user.buys[pid] += 1\n",
    "        elif interaction == InteractionType.RATE:\n",
    "            user.rates[pid] = interaction.value\n",
    "          \n",
    "        # update observation based on new data  \n",
    "        obs = {\n",
    "                'pref_prod': self._get_product_preferences(user),\n",
    "                'pref_cat': self._get_category_preferences(user), \n",
    "                'buys': utils.normalise(user.buys),\n",
    "                'views': utils.normalise(user.views),\n",
    "                'likes': utils.normalise(user.likes),\n",
    "                'ratings': user.ratings,\n",
    "                'product': utils.one_hot_encode(pid, len(self.products)),\n",
    "                'interaction': self._get_interaction_observation(interaction),\n",
    "                'rating': interaction.value if interaction.type == InteractionType.RATE else 0 \n",
    "            }\n",
    "        \n",
    "        return obs\n",
    "    \n",
    "    def update_observation(self, user:Customer, interaction:Interaction):\n",
    "        return self._update_observation(user, interaction)\n",
    "\n",
    "    def _get_observation(self, user:Customer): \n",
    "        \n",
    "        obs = {\n",
    "                'pref_prod': self._get_product_preferences(user),\n",
    "                'pref_cat': self._get_category_preferences(user), \n",
    "                'buys': utils.normalise(user.buys),\n",
    "                'views': utils.normalise(user.views),\n",
    "                'likes': utils.normalise(user.likes),\n",
    "                'ratings': user.ratings,\n",
    "                'product': np.zeros(len(self.products)),\n",
    "                'interaction': np.zeros(len(list(InteractionType))),\n",
    "                'rating': 0 \n",
    "            }\n",
    "        \n",
    "        return obs\n",
    "        \n",
    "    def _get_interaction_observation(self, interaction:Interaction):\n",
    "        idx = list(InteractionType).index(interaction.type)\n",
    "        size = len(InteractionType)\n",
    "        \n",
    "        return utils.one_hot_encode(idx, size)\n",
    "    \n",
    "    # calculate preferences based on past interactions\n",
    "    def _get_product_preferences(self, user:Customer):\n",
    "        view_prefs = user.views / 20\n",
    "        purchase_prefs = user.buys\n",
    "        like_prefs = user.likes / 15\n",
    "\n",
    "        rating_prefs = user.ratings.copy()\n",
    "        rating_prefs[rating_prefs > 0] -= 2\n",
    "        \n",
    "        product_prefs = view_prefs + purchase_prefs + like_prefs+ rating_prefs\n",
    "        \n",
    "        return product_prefs    # calculate preferences based on past interactions\n",
    "    \n",
    "    def _get_category_preferences(self, user:Customer):\n",
    "        prod_prefs = self._get_product_preferences(user)\n",
    "        cat_prefs = np.zeros(len(self.categories), np.float32)\n",
    "        \n",
    "        for idx, prod_pref in enumerate(prod_prefs):\n",
    "            if prod_pref > 0:\n",
    "                product = self.products[idx]\n",
    "                cat_idx = product.category.idx\n",
    "                cat_prefs[cat_idx] += prod_pref # accumulation of fav products for this cat\n",
    "                # print(f\"added pf {prod_pref} to cat {cat_idx}\")\n",
    "                \n",
    "        cat_prefs = cat_prefs / 5 # reduce space     \n",
    "           \n",
    "        return cat_prefs\n",
    "\n",
    "    def _simulate_interaction(self, product_ids):        \n",
    "        user = self.users[self.user_idx]\n",
    "        product_list = []\n",
    "        \n",
    "        # simulate selection\n",
    "        num_products = len(product_ids)\n",
    "        prod_scores = np.zeros(num_products, np.uint8)\n",
    "        product_prefs = self._get_product_preferences(user)\n",
    "        category_prefs = self._get_category_preferences(user)\n",
    "        product_probs = np.full((num_products,), 1.0 / num_products) # equal probs by default\n",
    "        product_probs[-1] = 0.1 # lower ending epsidoe flag to encourage longer training\n",
    "        \n",
    "        for idx, pid in enumerate(product_ids):\n",
    "            product_list.append(self.products[pid]) # get the product objects\n",
    "            prod_scores[idx] = product_prefs[pid]\n",
    "            \n",
    "        # combining category prefs to calculate probabilities\n",
    "        for idx, product in enumerate(product_list):\n",
    "            cid = product.category.idx\n",
    "            prod_scores[idx] = category_prefs[cid] \n",
    "    \n",
    "        # Ensure the probabilities sum to 1 for a valid probability distribution\n",
    "        if np.argmax(prod_scores) > 0: # the product is in the preferences\n",
    "            product_probs = np.array(prod_scores) / sum(prod_scores)\n",
    "\n",
    "        # Randomly select a product based on the defined probabilities\n",
    "        selected_product_id = np.random.choice(product_ids, p=product_probs)\n",
    "        \n",
    "        # simulate interaction for the selected product\n",
    "        inter_types = list(InteractionType)\n",
    "        inter_scores = np.zeros(len(inter_types), np.uint8)\n",
    "        inter_probs = np.full((len(inter_types),), 1.0 / len(inter_types)) # equal probs by default\n",
    "        \n",
    "        \n",
    "        for idx, inter_type in enumerate(inter_types):\n",
    "            if inter_type == InteractionType.VIEW:\n",
    "                inter_scores[idx] = user.views[selected_product_id]\n",
    "            if inter_type == InteractionType.LIKE:\n",
    "                inter_scores[idx] = user.likes[selected_product_id]\n",
    "            if inter_type == InteractionType.BUY:\n",
    "                inter_scores[idx] = user.buys[selected_product_id]\n",
    "            if inter_type == InteractionType.RATE:\n",
    "                inter_scores[idx] = user.ratings[selected_product_id]\n",
    "        \n",
    "        if np.argmax(inter_scores) > 0:\n",
    "            inter_scores[inter_scores == 0] = 1 # default score for interaction that are 0\n",
    "            inter_probs = np.array(inter_scores) / sum(inter_scores)\n",
    "\n",
    "        # Randomly select a product based on the defined probabilities\n",
    "        selected_interaction_type = np.random.choice(inter_types, p=inter_probs)\n",
    "        \n",
    "        return selected_product_id, selected_interaction_type\n",
    "\n",
    "    def seed(self, seed=None):\n",
    "        \"\"\"\n",
    "        Set the seed for reproducibility.\n",
    "        \"\"\"\n",
    "        self.np_random, seed = gym.utils.seeding.np_random(seed)\n",
    "        random.seed(seed)\n",
    "        np.random.seed(seed)\n",
    "        return [seed]\n",
    "    \n",
    "    def render(self, mode='human'):\n",
    "        if hasattr(self, 'last_action'):\n",
    "            print(f\"Recommended Product ID (Last Action): {self.last_action}\")\n",
    "        else:\n",
    "            print(\"No product recommended yet.\")\n",
    "\n",
    "        # Optionally, print the reward received for the last action\n",
    "        if hasattr(self, 'last_reward'):\n",
    "            print(f\"Reward for Last Action: {self.last_reward}\")\n",
    "\n",
    "        print(\"-----\")\n",
    "\n",
    "    def close(self):\n",
    "        pass"
   ]
  },
  {
   "cell_type": "markdown",
   "id": "027c451b-9bc0-43eb-9bb3-562ac84d6e41",
   "metadata": {
    "tags": []
   },
   "source": [
    "## Initialise model with atari environemnt"
   ]
  },
  {
   "cell_type": "code",
   "execution_count": 33,
   "id": "7caaa206-7c83-4270-b627-e1cdeb80c9fd",
   "metadata": {
    "tags": []
   },
   "outputs": [],
   "source": [
    "products = loader.load_products()\n",
    "customers = loader.load_customers(include_interactions=True)"
   ]
  },
  {
   "cell_type": "code",
   "execution_count": 34,
   "id": "59b3d16c-5596-4933-91b8-cd0a8e15d623",
   "metadata": {
    "tags": []
   },
   "outputs": [],
   "source": [
    "for customer in customers:\n",
    "    customer.views = np.zeros(len(products), dtype=np.int8)\n",
    "    customer.likes = np.zeros(len(products), dtype=np.int8)\n",
    "    customer.buys = np.zeros(len(products), dtype=np.int8)\n",
    "    customer.ratings = np.zeros(len(products), dtype=np.int8)\n",
    "    for interaction in customer.interactions:\n",
    "        i_type = interaction.type.value    \n",
    "        product_idx = interaction.product_idx  \n",
    "        # print(f\"customer {customer.idx} interaction {type} product {product_idx}\")\n",
    "        if i_type == InteractionType.VIEW.value:\n",
    "            customer.views[product_idx] += 1\n",
    "            # print(f\"customer {customer.idx} view\", customer.views)\n",
    "        elif i_type == InteractionType.LIKE.value:\n",
    "            customer.likes[product_idx] += 1\n",
    "            # print(f\"customer {customer.idx} like\", customer.likes)\n",
    "        elif i_type == InteractionType.BUY.value:\n",
    "            customer.buys[product_idx] += 1\n",
    "            # print(f\"customer {customer.idx} buy\", customer.buys)\n",
    "        elif i_type == InteractionType.RATE.value:\n",
    "            customer.ratings[product_idx] = interaction.value\n",
    "            # print(f\"customer {customer.idx} rate\", customer.rates)"
   ]
  },
  {
   "cell_type": "code",
   "execution_count": 35,
   "id": "d31da687-bb01-4803-8b5f-4516ce41a34c",
   "metadata": {
    "tags": []
   },
   "outputs": [
    {
     "data": {
      "text/plain": [
       "[100]"
      ]
     },
     "execution_count": 35,
     "metadata": {},
     "output_type": "execute_result"
    }
   ],
   "source": [
    "env = RecommendationEnv(customers, products, top_k=10)\n",
    "env.seed(100)"
   ]
  },
  {
   "cell_type": "markdown",
   "id": "23b62753-8e67-4fe5-ab15-fe58ab912a28",
   "metadata": {},
   "source": [
    "### Hyperparameter tuning"
   ]
  },
  {
   "cell_type": "code",
   "execution_count": 36,
   "id": "4718b35a-a8ef-4b29-b0fd-e668bfd326d1",
   "metadata": {
    "tags": []
   },
   "outputs": [],
   "source": [
    "param_clip_range = 0.2\n",
    "param_learning_rate = 0.0001\n",
    "param_batch_size = 64\n",
    "param_gamma=0.995\n",
    "param_gae_lambda=0.95\n",
    "param_n_steps=100\n",
    "param_n_epochs=10\n",
    "param_ent_coef = 0.01\n",
    "param_total_timesteps = 5000\n",
    "save_interval = param_total_timesteps/10"
   ]
  },
  {
   "cell_type": "markdown",
   "id": "8809ddd4-bada-40e6-baf8-bb0da61e3a03",
   "metadata": {},
   "source": [
    "### Initialise model"
   ]
  },
  {
   "cell_type": "code",
   "execution_count": 37,
   "id": "r3wsJTjQr6QL",
   "metadata": {
    "id": "r3wsJTjQr6QL"
   },
   "outputs": [
    {
     "name": "stderr",
     "output_type": "stream",
     "text": [
      "/opt/conda/lib/python3.10/site-packages/stable_baselines3/ppo/ppo.py:155: UserWarning: You have specified a mini-batch size of 64, but because the `RolloutBuffer` is of size `n_steps * n_envs = 100`, after every 1 untruncated mini-batches, there will be a truncated mini-batch of size 36\n",
      "We recommend using a `batch_size` that is a factor of `n_steps * n_envs`.\n",
      "Info: (n_steps=100 and n_envs=1)\n",
      "  warnings.warn(\n"
     ]
    }
   ],
   "source": [
    "# Initialize the PPO agent with specified parameters\n",
    "model = PPO(\n",
    "    env=env,\n",
    "    policy='MultiInputPolicy',\n",
    "    verbose=0,\n",
    "    clip_range=param_clip_range,\n",
    "    learning_rate=param_learning_rate,\n",
    "    n_epochs=param_n_epochs,\n",
    "    n_steps=param_n_steps,\n",
    "    ent_coef=param_ent_coef,\n",
    "    batch_size=param_batch_size,\n",
    "    gamma=param_gamma,\n",
    "    gae_lambda=param_gae_lambda,\n",
    "    # policy_kwargs={'features_extractor_class': CustomANN},\n",
    "    tensorboard_log=logs_dir\n",
    ")\n",
    "\n",
    "\n",
    "# # Configure TensorBoard logger\n",
    "# new_logger = configure(logs_dir, [\"tensorboard\"])\n",
    "# model.set_logger(new_logger)"
   ]
  },
  {
   "cell_type": "markdown",
   "id": "50f91ade",
   "metadata": {
    "id": "50f91ade",
    "tags": []
   },
   "source": [
    "## Model training"
   ]
  },
  {
   "cell_type": "code",
   "execution_count": 38,
   "id": "309681eb-f82c-4ac8-ac9e-4971387fa047",
   "metadata": {
    "tags": []
   },
   "outputs": [],
   "source": [
    "# display = Display(\"Xvfb :1 -screen 0 1024x768x24\")\n",
    "# display.start()"
   ]
  },
  {
   "cell_type": "code",
   "execution_count": 39,
   "id": "4f26bfc4",
   "metadata": {
    "id": "4f26bfc4"
   },
   "outputs": [
    {
     "data": {
      "text/html": [
       "<pre style=\"white-space:pre;overflow-x:auto;line-height:normal;font-family:Menlo,'DejaVu Sans Mono',consolas,'Courier New',monospace\"><span style=\"color: #800080; text-decoration-color: #800080\"> 100%</span> <span style=\"color: #729c1f; text-decoration-color: #729c1f\">━━━━━━━━━━━━━━━━━━━━━━━━━━━━━━━━━━━━━━━━━━━━━━━━━━━━━━━━━━━━━━━━</span> <span style=\"color: #008000; text-decoration-color: #008000\">5,000/5,000 </span> [ <span style=\"color: #808000; text-decoration-color: #808000\">0:01:31</span> &lt; <span style=\"color: #008080; text-decoration-color: #008080\">0:00:00</span> , <span style=\"color: #800000; text-decoration-color: #800000\">54 it/s</span> ]\n",
       "<span style=\"color: #800080; text-decoration-color: #800080\"> 100%</span> <span style=\"color: #729c1f; text-decoration-color: #729c1f\">━━━━━━━━━━━━━━━━━━━━━━━━━━━━━━━━━━━━━━━━━━━━━━━━━━━━━━━━━━━━━━━━</span> <span style=\"color: #008000; text-decoration-color: #008000\">5,000/5,000 </span> [ <span style=\"color: #808000; text-decoration-color: #808000\">0:01:31</span> &lt; <span style=\"color: #008080; text-decoration-color: #008080\">0:00:00</span> , <span style=\"color: #800000; text-decoration-color: #800000\">54 it/s</span> ]</pre>\n"
      ],
      "text/plain": [
       "\r",
       "\u001b[2K\u001b[35m 100%\u001b[0m \u001b[38;2;114;156;31m━━━━━━━━━━━━━━━━━━━━━━━━━━━━━━━━━━━━━━━━━━━━━━━━━━━━━━━━━━━━━━━━\u001b[0m \u001b[32m5,000/5,000 \u001b[0m [ \u001b[33m0:01:31\u001b[0m < \u001b[36m0:00:00\u001b[0m , \u001b[31m54 it/s\u001b[0m ]\n",
       "\u001b[35m 100%\u001b[0m \u001b[38;2;114;156;31m━━━━━━━━━━━━━━━━━━━━━━━━━━━━━━━━━━━━━━━━━━━━━━━━━━━━━━━━━━━━━━━━\u001b[0m \u001b[32m5,000/5,000 \u001b[0m [ \u001b[33m0:01:31\u001b[0m < \u001b[36m0:00:00\u001b[0m , \u001b[31m54 it/s\u001b[0m ]"
      ]
     },
     "metadata": {},
     "output_type": "display_data"
    },
    {
     "data": {
      "text/html": [
       "<pre style=\"white-space:pre;overflow-x:auto;line-height:normal;font-family:Menlo,'DejaVu Sans Mono',consolas,'Courier New',monospace\">\n",
       "</pre>\n"
      ],
      "text/plain": [
       "\n",
       "\u001b[?25h"
      ]
     },
     "metadata": {},
     "output_type": "display_data"
    }
   ],
   "source": [
    "# Define the interval at which models are saved during training\n",
    "save_callback = SaveOnIntervalCallback(save_interval, models_dir)\n",
    "# reward_callback = RewardLoggingCallback(log_file=f\"{logs_dir}training_rewards_ppo.csv\")\n",
    "\n",
    "model.learn(total_timesteps=param_total_timesteps, progress_bar=True, callback=save_callback)\n",
    "\n",
    "# Save the final model after training completes\n",
    "final_model_path = os.path.join(models_dir, model_name_final)\n",
    "model.save(final_model_path)"
   ]
  },
  {
   "cell_type": "markdown",
   "id": "84d03357",
   "metadata": {
    "id": "84d03357"
   },
   "source": [
    "## Testing"
   ]
  },
  {
   "cell_type": "code",
   "execution_count": 49,
   "id": "d52870ef-054f-4b4b-969d-b057e4e90189",
   "metadata": {
    "tags": []
   },
   "outputs": [],
   "source": [
    "# Construct observation data for customer 10\n",
    "test_customer = customers[10] \n",
    "\n",
    "# simulated laset selected product\n",
    "test_product = products[53]\n",
    "\n",
    "# it only uses the previous interaction to predict\n",
    "previous_interaction = Interaction(idx = '0', \n",
    "                          timestamp = datetime.now(), \n",
    "                          customer_idx = test_customer.idx, \n",
    "                          product_idx = test_product.idx, \n",
    "                          type = InteractionType.RATE,\n",
    "                          value = 5,)\n",
    "\n",
    "new_obs = env.update_observation(test_customer, interaction)"
   ]
  },
  {
   "cell_type": "code",
   "execution_count": 50,
   "id": "f9d1ee0f-6967-40d5-b67f-5d11f3c5e054",
   "metadata": {
    "tags": []
   },
   "outputs": [],
   "source": [
    "recommended_products, _states = model.predict(new_obs)"
   ]
  },
  {
   "cell_type": "code",
   "execution_count": 51,
   "id": "cff260c3-bfbd-4f0d-8561-126e972c13db",
   "metadata": {
    "tags": []
   },
   "outputs": [
    {
     "name": "stdout",
     "output_type": "stream",
     "text": [
      "[107 213 111  84  98 155  21 109 108 150]\n"
     ]
    }
   ],
   "source": [
    "print(recommended_products)"
   ]
  },
  {
   "cell_type": "code",
   "execution_count": 52,
   "id": "2fff7d9c-841b-4ea7-b2d9-1bcc93e6814d",
   "metadata": {
    "tags": []
   },
   "outputs": [],
   "source": [
    "obs, rewards, done, flag, simulated_interaction_info = env.step(recommended_products)"
   ]
  },
  {
   "cell_type": "code",
   "execution_count": 53,
   "id": "f8b9f17d-6794-4ec8-bf7c-422c9a14ede3",
   "metadata": {
    "tags": []
   },
   "outputs": [
    {
     "data": {
      "text/plain": [
       "{'interaction': {'idx': -1,\n",
       "  'timestamp': '2024-11-07 00:49:54',\n",
       "  'user_id': 45,\n",
       "  'product_id': 107,\n",
       "  'interaction': 'like',\n",
       "  'rating': 0}}"
      ]
     },
     "execution_count": 53,
     "metadata": {},
     "output_type": "execute_result"
    }
   ],
   "source": [
    "simulated_interaction_info"
   ]
  },
  {
   "cell_type": "code",
   "execution_count": null,
   "id": "c29c4e88-98ff-4c08-9288-5b09eefea150",
   "metadata": {},
   "outputs": [],
   "source": []
  }
 ],
 "metadata": {
  "accelerator": "GPU",
  "availableInstances": [
   {
    "_defaultOrder": 0,
    "_isFastLaunch": true,
    "category": "General purpose",
    "gpuNum": 0,
    "hideHardwareSpecs": false,
    "memoryGiB": 4,
    "name": "ml.t3.medium",
    "vcpuNum": 2
   },
   {
    "_defaultOrder": 1,
    "_isFastLaunch": false,
    "category": "General purpose",
    "gpuNum": 0,
    "hideHardwareSpecs": false,
    "memoryGiB": 8,
    "name": "ml.t3.large",
    "vcpuNum": 2
   },
   {
    "_defaultOrder": 2,
    "_isFastLaunch": false,
    "category": "General purpose",
    "gpuNum": 0,
    "hideHardwareSpecs": false,
    "memoryGiB": 16,
    "name": "ml.t3.xlarge",
    "vcpuNum": 4
   },
   {
    "_defaultOrder": 3,
    "_isFastLaunch": false,
    "category": "General purpose",
    "gpuNum": 0,
    "hideHardwareSpecs": false,
    "memoryGiB": 32,
    "name": "ml.t3.2xlarge",
    "vcpuNum": 8
   },
   {
    "_defaultOrder": 4,
    "_isFastLaunch": true,
    "category": "General purpose",
    "gpuNum": 0,
    "hideHardwareSpecs": false,
    "memoryGiB": 8,
    "name": "ml.m5.large",
    "vcpuNum": 2
   },
   {
    "_defaultOrder": 5,
    "_isFastLaunch": false,
    "category": "General purpose",
    "gpuNum": 0,
    "hideHardwareSpecs": false,
    "memoryGiB": 16,
    "name": "ml.m5.xlarge",
    "vcpuNum": 4
   },
   {
    "_defaultOrder": 6,
    "_isFastLaunch": false,
    "category": "General purpose",
    "gpuNum": 0,
    "hideHardwareSpecs": false,
    "memoryGiB": 32,
    "name": "ml.m5.2xlarge",
    "vcpuNum": 8
   },
   {
    "_defaultOrder": 7,
    "_isFastLaunch": false,
    "category": "General purpose",
    "gpuNum": 0,
    "hideHardwareSpecs": false,
    "memoryGiB": 64,
    "name": "ml.m5.4xlarge",
    "vcpuNum": 16
   },
   {
    "_defaultOrder": 8,
    "_isFastLaunch": false,
    "category": "General purpose",
    "gpuNum": 0,
    "hideHardwareSpecs": false,
    "memoryGiB": 128,
    "name": "ml.m5.8xlarge",
    "vcpuNum": 32
   },
   {
    "_defaultOrder": 9,
    "_isFastLaunch": false,
    "category": "General purpose",
    "gpuNum": 0,
    "hideHardwareSpecs": false,
    "memoryGiB": 192,
    "name": "ml.m5.12xlarge",
    "vcpuNum": 48
   },
   {
    "_defaultOrder": 10,
    "_isFastLaunch": false,
    "category": "General purpose",
    "gpuNum": 0,
    "hideHardwareSpecs": false,
    "memoryGiB": 256,
    "name": "ml.m5.16xlarge",
    "vcpuNum": 64
   },
   {
    "_defaultOrder": 11,
    "_isFastLaunch": false,
    "category": "General purpose",
    "gpuNum": 0,
    "hideHardwareSpecs": false,
    "memoryGiB": 384,
    "name": "ml.m5.24xlarge",
    "vcpuNum": 96
   },
   {
    "_defaultOrder": 12,
    "_isFastLaunch": false,
    "category": "General purpose",
    "gpuNum": 0,
    "hideHardwareSpecs": false,
    "memoryGiB": 8,
    "name": "ml.m5d.large",
    "vcpuNum": 2
   },
   {
    "_defaultOrder": 13,
    "_isFastLaunch": false,
    "category": "General purpose",
    "gpuNum": 0,
    "hideHardwareSpecs": false,
    "memoryGiB": 16,
    "name": "ml.m5d.xlarge",
    "vcpuNum": 4
   },
   {
    "_defaultOrder": 14,
    "_isFastLaunch": false,
    "category": "General purpose",
    "gpuNum": 0,
    "hideHardwareSpecs": false,
    "memoryGiB": 32,
    "name": "ml.m5d.2xlarge",
    "vcpuNum": 8
   },
   {
    "_defaultOrder": 15,
    "_isFastLaunch": false,
    "category": "General purpose",
    "gpuNum": 0,
    "hideHardwareSpecs": false,
    "memoryGiB": 64,
    "name": "ml.m5d.4xlarge",
    "vcpuNum": 16
   },
   {
    "_defaultOrder": 16,
    "_isFastLaunch": false,
    "category": "General purpose",
    "gpuNum": 0,
    "hideHardwareSpecs": false,
    "memoryGiB": 128,
    "name": "ml.m5d.8xlarge",
    "vcpuNum": 32
   },
   {
    "_defaultOrder": 17,
    "_isFastLaunch": false,
    "category": "General purpose",
    "gpuNum": 0,
    "hideHardwareSpecs": false,
    "memoryGiB": 192,
    "name": "ml.m5d.12xlarge",
    "vcpuNum": 48
   },
   {
    "_defaultOrder": 18,
    "_isFastLaunch": false,
    "category": "General purpose",
    "gpuNum": 0,
    "hideHardwareSpecs": false,
    "memoryGiB": 256,
    "name": "ml.m5d.16xlarge",
    "vcpuNum": 64
   },
   {
    "_defaultOrder": 19,
    "_isFastLaunch": false,
    "category": "General purpose",
    "gpuNum": 0,
    "hideHardwareSpecs": false,
    "memoryGiB": 384,
    "name": "ml.m5d.24xlarge",
    "vcpuNum": 96
   },
   {
    "_defaultOrder": 20,
    "_isFastLaunch": false,
    "category": "General purpose",
    "gpuNum": 0,
    "hideHardwareSpecs": true,
    "memoryGiB": 0,
    "name": "ml.geospatial.interactive",
    "supportedImageNames": [
     "sagemaker-geospatial-v1-0"
    ],
    "vcpuNum": 0
   },
   {
    "_defaultOrder": 21,
    "_isFastLaunch": true,
    "category": "Compute optimized",
    "gpuNum": 0,
    "hideHardwareSpecs": false,
    "memoryGiB": 4,
    "name": "ml.c5.large",
    "vcpuNum": 2
   },
   {
    "_defaultOrder": 22,
    "_isFastLaunch": false,
    "category": "Compute optimized",
    "gpuNum": 0,
    "hideHardwareSpecs": false,
    "memoryGiB": 8,
    "name": "ml.c5.xlarge",
    "vcpuNum": 4
   },
   {
    "_defaultOrder": 23,
    "_isFastLaunch": false,
    "category": "Compute optimized",
    "gpuNum": 0,
    "hideHardwareSpecs": false,
    "memoryGiB": 16,
    "name": "ml.c5.2xlarge",
    "vcpuNum": 8
   },
   {
    "_defaultOrder": 24,
    "_isFastLaunch": false,
    "category": "Compute optimized",
    "gpuNum": 0,
    "hideHardwareSpecs": false,
    "memoryGiB": 32,
    "name": "ml.c5.4xlarge",
    "vcpuNum": 16
   },
   {
    "_defaultOrder": 25,
    "_isFastLaunch": false,
    "category": "Compute optimized",
    "gpuNum": 0,
    "hideHardwareSpecs": false,
    "memoryGiB": 72,
    "name": "ml.c5.9xlarge",
    "vcpuNum": 36
   },
   {
    "_defaultOrder": 26,
    "_isFastLaunch": false,
    "category": "Compute optimized",
    "gpuNum": 0,
    "hideHardwareSpecs": false,
    "memoryGiB": 96,
    "name": "ml.c5.12xlarge",
    "vcpuNum": 48
   },
   {
    "_defaultOrder": 27,
    "_isFastLaunch": false,
    "category": "Compute optimized",
    "gpuNum": 0,
    "hideHardwareSpecs": false,
    "memoryGiB": 144,
    "name": "ml.c5.18xlarge",
    "vcpuNum": 72
   },
   {
    "_defaultOrder": 28,
    "_isFastLaunch": false,
    "category": "Compute optimized",
    "gpuNum": 0,
    "hideHardwareSpecs": false,
    "memoryGiB": 192,
    "name": "ml.c5.24xlarge",
    "vcpuNum": 96
   },
   {
    "_defaultOrder": 29,
    "_isFastLaunch": true,
    "category": "Accelerated computing",
    "gpuNum": 1,
    "hideHardwareSpecs": false,
    "memoryGiB": 16,
    "name": "ml.g4dn.xlarge",
    "vcpuNum": 4
   },
   {
    "_defaultOrder": 30,
    "_isFastLaunch": false,
    "category": "Accelerated computing",
    "gpuNum": 1,
    "hideHardwareSpecs": false,
    "memoryGiB": 32,
    "name": "ml.g4dn.2xlarge",
    "vcpuNum": 8
   },
   {
    "_defaultOrder": 31,
    "_isFastLaunch": false,
    "category": "Accelerated computing",
    "gpuNum": 1,
    "hideHardwareSpecs": false,
    "memoryGiB": 64,
    "name": "ml.g4dn.4xlarge",
    "vcpuNum": 16
   },
   {
    "_defaultOrder": 32,
    "_isFastLaunch": false,
    "category": "Accelerated computing",
    "gpuNum": 1,
    "hideHardwareSpecs": false,
    "memoryGiB": 128,
    "name": "ml.g4dn.8xlarge",
    "vcpuNum": 32
   },
   {
    "_defaultOrder": 33,
    "_isFastLaunch": false,
    "category": "Accelerated computing",
    "gpuNum": 4,
    "hideHardwareSpecs": false,
    "memoryGiB": 192,
    "name": "ml.g4dn.12xlarge",
    "vcpuNum": 48
   },
   {
    "_defaultOrder": 34,
    "_isFastLaunch": false,
    "category": "Accelerated computing",
    "gpuNum": 1,
    "hideHardwareSpecs": false,
    "memoryGiB": 256,
    "name": "ml.g4dn.16xlarge",
    "vcpuNum": 64
   },
   {
    "_defaultOrder": 35,
    "_isFastLaunch": false,
    "category": "Accelerated computing",
    "gpuNum": 1,
    "hideHardwareSpecs": false,
    "memoryGiB": 61,
    "name": "ml.p3.2xlarge",
    "vcpuNum": 8
   },
   {
    "_defaultOrder": 36,
    "_isFastLaunch": false,
    "category": "Accelerated computing",
    "gpuNum": 4,
    "hideHardwareSpecs": false,
    "memoryGiB": 244,
    "name": "ml.p3.8xlarge",
    "vcpuNum": 32
   },
   {
    "_defaultOrder": 37,
    "_isFastLaunch": false,
    "category": "Accelerated computing",
    "gpuNum": 8,
    "hideHardwareSpecs": false,
    "memoryGiB": 488,
    "name": "ml.p3.16xlarge",
    "vcpuNum": 64
   },
   {
    "_defaultOrder": 38,
    "_isFastLaunch": false,
    "category": "Accelerated computing",
    "gpuNum": 8,
    "hideHardwareSpecs": false,
    "memoryGiB": 768,
    "name": "ml.p3dn.24xlarge",
    "vcpuNum": 96
   },
   {
    "_defaultOrder": 39,
    "_isFastLaunch": false,
    "category": "Memory Optimized",
    "gpuNum": 0,
    "hideHardwareSpecs": false,
    "memoryGiB": 16,
    "name": "ml.r5.large",
    "vcpuNum": 2
   },
   {
    "_defaultOrder": 40,
    "_isFastLaunch": false,
    "category": "Memory Optimized",
    "gpuNum": 0,
    "hideHardwareSpecs": false,
    "memoryGiB": 32,
    "name": "ml.r5.xlarge",
    "vcpuNum": 4
   },
   {
    "_defaultOrder": 41,
    "_isFastLaunch": false,
    "category": "Memory Optimized",
    "gpuNum": 0,
    "hideHardwareSpecs": false,
    "memoryGiB": 64,
    "name": "ml.r5.2xlarge",
    "vcpuNum": 8
   },
   {
    "_defaultOrder": 42,
    "_isFastLaunch": false,
    "category": "Memory Optimized",
    "gpuNum": 0,
    "hideHardwareSpecs": false,
    "memoryGiB": 128,
    "name": "ml.r5.4xlarge",
    "vcpuNum": 16
   },
   {
    "_defaultOrder": 43,
    "_isFastLaunch": false,
    "category": "Memory Optimized",
    "gpuNum": 0,
    "hideHardwareSpecs": false,
    "memoryGiB": 256,
    "name": "ml.r5.8xlarge",
    "vcpuNum": 32
   },
   {
    "_defaultOrder": 44,
    "_isFastLaunch": false,
    "category": "Memory Optimized",
    "gpuNum": 0,
    "hideHardwareSpecs": false,
    "memoryGiB": 384,
    "name": "ml.r5.12xlarge",
    "vcpuNum": 48
   },
   {
    "_defaultOrder": 45,
    "_isFastLaunch": false,
    "category": "Memory Optimized",
    "gpuNum": 0,
    "hideHardwareSpecs": false,
    "memoryGiB": 512,
    "name": "ml.r5.16xlarge",
    "vcpuNum": 64
   },
   {
    "_defaultOrder": 46,
    "_isFastLaunch": false,
    "category": "Memory Optimized",
    "gpuNum": 0,
    "hideHardwareSpecs": false,
    "memoryGiB": 768,
    "name": "ml.r5.24xlarge",
    "vcpuNum": 96
   },
   {
    "_defaultOrder": 47,
    "_isFastLaunch": false,
    "category": "Accelerated computing",
    "gpuNum": 1,
    "hideHardwareSpecs": false,
    "memoryGiB": 16,
    "name": "ml.g5.xlarge",
    "vcpuNum": 4
   },
   {
    "_defaultOrder": 48,
    "_isFastLaunch": false,
    "category": "Accelerated computing",
    "gpuNum": 1,
    "hideHardwareSpecs": false,
    "memoryGiB": 32,
    "name": "ml.g5.2xlarge",
    "vcpuNum": 8
   },
   {
    "_defaultOrder": 49,
    "_isFastLaunch": false,
    "category": "Accelerated computing",
    "gpuNum": 1,
    "hideHardwareSpecs": false,
    "memoryGiB": 64,
    "name": "ml.g5.4xlarge",
    "vcpuNum": 16
   },
   {
    "_defaultOrder": 50,
    "_isFastLaunch": false,
    "category": "Accelerated computing",
    "gpuNum": 1,
    "hideHardwareSpecs": false,
    "memoryGiB": 128,
    "name": "ml.g5.8xlarge",
    "vcpuNum": 32
   },
   {
    "_defaultOrder": 51,
    "_isFastLaunch": false,
    "category": "Accelerated computing",
    "gpuNum": 1,
    "hideHardwareSpecs": false,
    "memoryGiB": 256,
    "name": "ml.g5.16xlarge",
    "vcpuNum": 64
   },
   {
    "_defaultOrder": 52,
    "_isFastLaunch": false,
    "category": "Accelerated computing",
    "gpuNum": 4,
    "hideHardwareSpecs": false,
    "memoryGiB": 192,
    "name": "ml.g5.12xlarge",
    "vcpuNum": 48
   },
   {
    "_defaultOrder": 53,
    "_isFastLaunch": false,
    "category": "Accelerated computing",
    "gpuNum": 4,
    "hideHardwareSpecs": false,
    "memoryGiB": 384,
    "name": "ml.g5.24xlarge",
    "vcpuNum": 96
   },
   {
    "_defaultOrder": 54,
    "_isFastLaunch": false,
    "category": "Accelerated computing",
    "gpuNum": 8,
    "hideHardwareSpecs": false,
    "memoryGiB": 768,
    "name": "ml.g5.48xlarge",
    "vcpuNum": 192
   },
   {
    "_defaultOrder": 55,
    "_isFastLaunch": false,
    "category": "Accelerated computing",
    "gpuNum": 8,
    "hideHardwareSpecs": false,
    "memoryGiB": 1152,
    "name": "ml.p4d.24xlarge",
    "vcpuNum": 96
   },
   {
    "_defaultOrder": 56,
    "_isFastLaunch": false,
    "category": "Accelerated computing",
    "gpuNum": 8,
    "hideHardwareSpecs": false,
    "memoryGiB": 1152,
    "name": "ml.p4de.24xlarge",
    "vcpuNum": 96
   },
   {
    "_defaultOrder": 57,
    "_isFastLaunch": false,
    "category": "Accelerated computing",
    "gpuNum": 0,
    "hideHardwareSpecs": false,
    "memoryGiB": 32,
    "name": "ml.trn1.2xlarge",
    "vcpuNum": 8
   },
   {
    "_defaultOrder": 58,
    "_isFastLaunch": false,
    "category": "Accelerated computing",
    "gpuNum": 0,
    "hideHardwareSpecs": false,
    "memoryGiB": 512,
    "name": "ml.trn1.32xlarge",
    "vcpuNum": 128
   },
   {
    "_defaultOrder": 59,
    "_isFastLaunch": false,
    "category": "Accelerated computing",
    "gpuNum": 0,
    "hideHardwareSpecs": false,
    "memoryGiB": 512,
    "name": "ml.trn1n.32xlarge",
    "vcpuNum": 128
   }
  ],
  "colab": {
   "gpuType": "T4",
   "machine_shape": "hm",
   "provenance": []
  },
  "instance_type": "ml.g4dn.xlarge",
  "kernelspec": {
   "display_name": "Python 3 (PyTorch 2.0.0 Python 3.10 GPU Optimized)",
   "language": "python",
   "name": "python3__SAGEMAKER_INTERNAL__arn:aws:sagemaker:ap-southeast-2:452832661640:image/pytorch-2.0.0-gpu-py310"
  },
  "language_info": {
   "codemirror_mode": {
    "name": "ipython",
    "version": 3
   },
   "file_extension": ".py",
   "mimetype": "text/x-python",
   "name": "python",
   "nbconvert_exporter": "python",
   "pygments_lexer": "ipython3",
   "version": "3.10.8"
  }
 },
 "nbformat": 4,
 "nbformat_minor": 5
}
